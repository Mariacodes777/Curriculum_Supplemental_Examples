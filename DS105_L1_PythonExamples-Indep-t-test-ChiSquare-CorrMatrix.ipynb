{
 "cells": [
  {
   "cell_type": "markdown",
   "metadata": {},
   "source": [
    "### DS105 Lesson 1 "
   ]
  },
  {
   "cell_type": "code",
   "execution_count": 3,
   "metadata": {},
   "outputs": [],
   "source": [
    "### Be sure to start off by importing the necessary packages:"
   ]
  },
  {
   "cell_type": "code",
   "execution_count": 98,
   "metadata": {},
   "outputs": [],
   "source": [
    "import pandas as pd\n",
    "import numpy as np\n",
    "from scipy.stats import norm\n",
    "from scipy import stats\n",
    "from scipy.stats import ttest_ind\n",
    "import matplotlib.pyplot as plt\n",
    "import seaborn as sns"
   ]
  },
  {
   "cell_type": "code",
   "execution_count": 23,
   "metadata": {},
   "outputs": [],
   "source": [
    "### Next you would need to read in your data:\n",
    "### This method below is with a relative path and each dot is backing up from a folder I have the dataset in, so 3 steps back\n",
    "### C:\\Users\\Mia\\OneDrive\\Documents\\DS Examples\\data <- my original path, 3 dots takes me to the Documents folder which is what \n",
    "### you see it is starting with below\n",
    "\n",
    "### If you want to do your data absolute to your computer you would need to download the data from the lesson, and read it in:\n",
    "### dataname= pd.read_excel('C:\\Users\\Mia\\OneDrive\\Documents\\DS Examples\\data.excel')\n",
    "### So the above it not done! That is how it copies in when you copy and paste your path on a windows! The slashes need to go the \n",
    "### opposite direction! :\n",
    "### dataname= pd.read_excel('C:/Users/Mia/OneDrive/Documents/DS Examples/data.xlsx')\n",
    "### when you have excel files the extension is .xlsx\n",
    "### when you have csv files the extension is .csv \n"
   ]
  },
  {
   "cell_type": "code",
   "execution_count": 4,
   "metadata": {},
   "outputs": [],
   "source": [
    "data = pd.read_excel('.././Documents/DS Examples/data/hybrid2013.xlsx')"
   ]
  },
  {
   "cell_type": "code",
   "execution_count": 19,
   "metadata": {},
   "outputs": [
    {
     "data": {
      "text/html": [
       "<div>\n",
       "<style scoped>\n",
       "    .dataframe tbody tr th:only-of-type {\n",
       "        vertical-align: middle;\n",
       "    }\n",
       "\n",
       "    .dataframe tbody tr th {\n",
       "        vertical-align: top;\n",
       "    }\n",
       "\n",
       "    .dataframe thead th {\n",
       "        text-align: right;\n",
       "    }\n",
       "</style>\n",
       "<table border=\"1\" class=\"dataframe\">\n",
       "  <thead>\n",
       "    <tr style=\"text-align: right;\">\n",
       "      <th></th>\n",
       "      <th>carid</th>\n",
       "      <th>vehicle</th>\n",
       "      <th>year</th>\n",
       "      <th>msrp</th>\n",
       "      <th>accelrate</th>\n",
       "      <th>mpg</th>\n",
       "      <th>mpgmpge</th>\n",
       "      <th>carclass</th>\n",
       "      <th>carclass_id</th>\n",
       "    </tr>\n",
       "  </thead>\n",
       "  <tbody>\n",
       "    <tr>\n",
       "      <th>0</th>\n",
       "      <td>111</td>\n",
       "      <td>Prius C</td>\n",
       "      <td>2013</td>\n",
       "      <td>19080</td>\n",
       "      <td>8.70</td>\n",
       "      <td>50</td>\n",
       "      <td>50</td>\n",
       "      <td>C</td>\n",
       "      <td>1</td>\n",
       "    </tr>\n",
       "    <tr>\n",
       "      <th>1</th>\n",
       "      <td>112</td>\n",
       "      <td>Jetta</td>\n",
       "      <td>2013</td>\n",
       "      <td>24995</td>\n",
       "      <td>12.66</td>\n",
       "      <td>45</td>\n",
       "      <td>45</td>\n",
       "      <td>C</td>\n",
       "      <td>1</td>\n",
       "    </tr>\n",
       "    <tr>\n",
       "      <th>2</th>\n",
       "      <td>113</td>\n",
       "      <td>Civic</td>\n",
       "      <td>2013</td>\n",
       "      <td>24360</td>\n",
       "      <td>10.20</td>\n",
       "      <td>44</td>\n",
       "      <td>44</td>\n",
       "      <td>C</td>\n",
       "      <td>1</td>\n",
       "    </tr>\n",
       "    <tr>\n",
       "      <th>3</th>\n",
       "      <td>114</td>\n",
       "      <td>Prius</td>\n",
       "      <td>2013</td>\n",
       "      <td>24200</td>\n",
       "      <td>10.20</td>\n",
       "      <td>50</td>\n",
       "      <td>50</td>\n",
       "      <td>M</td>\n",
       "      <td>3</td>\n",
       "    </tr>\n",
       "    <tr>\n",
       "      <th>4</th>\n",
       "      <td>115</td>\n",
       "      <td>Fusion FWD</td>\n",
       "      <td>2013</td>\n",
       "      <td>27200</td>\n",
       "      <td>11.72</td>\n",
       "      <td>47</td>\n",
       "      <td>47</td>\n",
       "      <td>M</td>\n",
       "      <td>3</td>\n",
       "    </tr>\n",
       "  </tbody>\n",
       "</table>\n",
       "</div>"
      ],
      "text/plain": [
       "   carid     vehicle  year   msrp  accelrate  mpg  mpgmpge carclass  \\\n",
       "0    111     Prius C  2013  19080       8.70   50       50        C   \n",
       "1    112       Jetta  2013  24995      12.66   45       45        C   \n",
       "2    113       Civic  2013  24360      10.20   44       44        C   \n",
       "3    114       Prius  2013  24200      10.20   50       50        M   \n",
       "4    115  Fusion FWD  2013  27200      11.72   47       47        M   \n",
       "\n",
       "   carclass_id  \n",
       "0            1  \n",
       "1            1  \n",
       "2            1  \n",
       "3            3  \n",
       "4            3  "
      ]
     },
     "execution_count": 19,
     "metadata": {},
     "output_type": "execute_result"
    }
   ],
   "source": [
    "data.head()"
   ]
  },
  {
   "cell_type": "markdown",
   "metadata": {},
   "source": [
    "### Single Sample t-test"
   ]
  },
  {
   "cell_type": "markdown",
   "metadata": {},
   "source": [
    "### Creating a histogram for looking at the MPG: "
   ]
  },
  {
   "cell_type": "code",
   "execution_count": 11,
   "metadata": {},
   "outputs": [],
   "source": [
    "### below the syntax for a histogram:\n",
    "### data_name['column_name'].hist()\n",
    "### so you would fill in the name of your data, here I went really original and just used \"data\" and the column we are looking at \n",
    "### is mpg. Make sure you spell everything exactly as it shows up in your data or it will give you an error!\n",
    "### This is why it is always a good idea to run the .head() function on your data so you can see the spelling of all the columns.\n"
   ]
  },
  {
   "cell_type": "code",
   "execution_count": 10,
   "metadata": {},
   "outputs": [
    {
     "data": {
      "text/plain": [
       "<AxesSubplot:>"
      ]
     },
     "execution_count": 10,
     "metadata": {},
     "output_type": "execute_result"
    },
    {
     "data": {
      "image/png": "[encoded data removed]",
      "text/plain": [
       "<Figure size 432x288 with 1 Axes>"
      ]
     },
     "metadata": {
      "needs_background": "light"
     },
     "output_type": "display_data"
    }
   ],
   "source": [
    "data['mpg'].hist()"
   ]
  },
  {
   "cell_type": "code",
   "execution_count": 2,
   "metadata": {},
   "outputs": [],
   "source": [
    "### Single Sample t-Test\n",
    "# Remember that a single-sample t-test is meant to examine whether a particular value is different than the population mean. "
   ]
  },
  {
   "cell_type": "code",
   "execution_count": 1,
   "metadata": {},
   "outputs": [],
   "source": [
    "### We will look at comparing 37 MPG to see if that is signficantly different from the average MPG:"
   ]
  },
  {
   "cell_type": "code",
   "execution_count": 7,
   "metadata": {},
   "outputs": [
    {
     "data": {
      "text/plain": [
       "Ttest_1sampResult(statistic=-2.387590693731423, pvalue=0.021535424160203327)"
      ]
     },
     "execution_count": 7,
     "metadata": {},
     "output_type": "execute_result"
    }
   ],
   "source": [
    "stats.ttest_1samp(data['mpg'], 37)"
   ]
  },
  {
   "cell_type": "code",
   "execution_count": 8,
   "metadata": {},
   "outputs": [],
   "source": [
    "### p value is 0.0215  when p < .05 the null hypothesis is rejected and the alternative hypothesis is accepted as \n",
    "### there is a significant result"
   ]
  },
  {
   "cell_type": "code",
   "execution_count": 12,
   "metadata": {},
   "outputs": [],
   "source": [
    "### So we know from the p value that the result is significant, but is it significantly higher or lower than the average? \n",
    "### We will look at the mean:"
   ]
  },
  {
   "cell_type": "code",
   "execution_count": 13,
   "metadata": {},
   "outputs": [
    {
     "data": {
      "text/plain": [
       "33.48837209302326"
      ]
     },
     "execution_count": 13,
     "metadata": {},
     "output_type": "execute_result"
    }
   ],
   "source": [
    "data.mpg.mean()"
   ]
  },
  {
   "cell_type": "code",
   "execution_count": 14,
   "metadata": {},
   "outputs": [],
   "source": [
    "### We see that the mean is 33.488 so 37 would be significantly higher than the average"
   ]
  },
  {
   "cell_type": "markdown",
   "metadata": {},
   "source": [
    "### Independent t test"
   ]
  },
  {
   "cell_type": "code",
   "execution_count": 19,
   "metadata": {},
   "outputs": [],
   "source": [
    "### An independent t test is used when you have one independent variable that is categorical and a grouping variable, \n",
    "### and one dependent continuous variable. Use an independent t-test when you want to determine whether the means of two \n",
    "### different, unrelated groups are the same or different (from page 5 of lesson)."
   ]
  },
  {
   "cell_type": "code",
   "execution_count": 24,
   "metadata": {},
   "outputs": [],
   "source": [
    "### First, I wanted to see what carclass options we have, you can do this two ways: data_name.column_name.unique() displays the \n",
    "### column options or levels more spread out\n",
    "### To see the column options vertically, you can do data_name.column_name.value_counts() and that displays them all straight down\n"
   ]
  },
  {
   "cell_type": "code",
   "execution_count": 35,
   "metadata": {},
   "outputs": [
    {
     "data": {
      "text/plain": [
       "array(['C', 'M', 'L', 'SUV', 'PT'], dtype=object)"
      ]
     },
     "execution_count": 35,
     "metadata": {},
     "output_type": "execute_result"
    }
   ],
   "source": [
    "data.carclass.unique()"
   ]
  },
  {
   "cell_type": "code",
   "execution_count": 39,
   "metadata": {},
   "outputs": [],
   "source": [
    "### Let's look at the differences between the large cars and the SUVs!"
   ]
  },
  {
   "cell_type": "code",
   "execution_count": 21,
   "metadata": {},
   "outputs": [],
   "source": [
    "### First let's look at histograms of each one:"
   ]
  },
  {
   "cell_type": "code",
   "execution_count": 40,
   "metadata": {},
   "outputs": [
    {
     "data": {
      "text/plain": [
       "<AxesSubplot:>"
      ]
     },
     "execution_count": 40,
     "metadata": {},
     "output_type": "execute_result"
    },
    {
     "data": {
      "image/png": "[encoded data removed]",
      "text/plain": [
       "<Figure size 432x288 with 1 Axes>"
      ]
     },
     "metadata": {
      "needs_background": "light"
     },
     "output_type": "display_data"
    }
   ],
   "source": [
    "data.mpg[data.carclass == 'L'].hist()"
   ]
  },
  {
   "cell_type": "code",
   "execution_count": 41,
   "metadata": {},
   "outputs": [],
   "source": [
    "### This is not normally distributed!"
   ]
  },
  {
   "cell_type": "code",
   "execution_count": 42,
   "metadata": {},
   "outputs": [],
   "source": [
    "### Let's look at a histogram of SUV:"
   ]
  },
  {
   "cell_type": "code",
   "execution_count": 43,
   "metadata": {},
   "outputs": [
    {
     "data": {
      "text/plain": [
       "<AxesSubplot:>"
      ]
     },
     "execution_count": 43,
     "metadata": {},
     "output_type": "execute_result"
    },
    {
     "data": {
      "image/png": "[encoded data removed]",
      "text/plain": [
       "<Figure size 432x288 with 1 Axes>"
      ]
     },
     "metadata": {
      "needs_background": "light"
     },
     "output_type": "display_data"
    }
   ],
   "source": [
    "data.mpg[data.carclass=='SUV'].hist()"
   ]
  },
  {
   "cell_type": "code",
   "execution_count": 44,
   "metadata": {},
   "outputs": [],
   "source": [
    "# This is also not normally distributed!"
   ]
  },
  {
   "cell_type": "code",
   "execution_count": 45,
   "metadata": {},
   "outputs": [],
   "source": [
    "### We will still run our test for learning purposes:"
   ]
  },
  {
   "cell_type": "code",
   "execution_count": 46,
   "metadata": {},
   "outputs": [
    {
     "data": {
      "text/plain": [
       "Ttest_indResult(statistic=1.4311696139394496, pvalue=0.18017311952980603)"
      ]
     },
     "execution_count": 46,
     "metadata": {},
     "output_type": "execute_result"
    }
   ],
   "source": [
    "ttest_ind(data.mpg[data.carclass == 'L'], data.mpg[data.carclass == 'SUV'])"
   ]
  },
  {
   "cell_type": "code",
   "execution_count": 48,
   "metadata": {},
   "outputs": [],
   "source": [
    "### p value here is 0.180 this is not statistically signficant because the p > .05\n",
    "### this makes sense because the a large car and an SUV would probably have similar gas mileages."
   ]
  },
  {
   "cell_type": "markdown",
   "metadata": {},
   "source": [
    "### Dependent t-Test"
   ]
  },
  {
   "cell_type": "code",
   "execution_count": 50,
   "metadata": {},
   "outputs": [],
   "source": [
    "# Dependent t-tests are used when your samples are related in some way, but you still want to see if the means change. \n",
    "# It may be change over time, or change with treatment, etc. A dependent t requires an independent variable that is categorical\n",
    "# (groups to compare) and a dependent variable that is continuous (from page 8 of Lesson 1)."
   ]
  },
  {
   "cell_type": "markdown",
   "metadata": {},
   "source": [
    "#### Read in new dataset:"
   ]
  },
  {
   "cell_type": "code",
   "execution_count": 51,
   "metadata": {},
   "outputs": [],
   "source": [
    "data2 = pd.read_excel('.././Documents\\DS Examples/data/hybrid2012-13.xlsx')"
   ]
  },
  {
   "cell_type": "code",
   "execution_count": 52,
   "metadata": {},
   "outputs": [
    {
     "data": {
      "text/html": [
       "<div>\n",
       "<style scoped>\n",
       "    .dataframe tbody tr th:only-of-type {\n",
       "        vertical-align: middle;\n",
       "    }\n",
       "\n",
       "    .dataframe tbody tr th {\n",
       "        vertical-align: top;\n",
       "    }\n",
       "\n",
       "    .dataframe thead th {\n",
       "        text-align: right;\n",
       "    }\n",
       "</style>\n",
       "<table border=\"1\" class=\"dataframe\">\n",
       "  <thead>\n",
       "    <tr style=\"text-align: right;\">\n",
       "      <th></th>\n",
       "      <th>vehicle</th>\n",
       "      <th>msrp2012</th>\n",
       "      <th>accelrate2012</th>\n",
       "      <th>mpg2012</th>\n",
       "      <th>mpgmpge2012</th>\n",
       "      <th>carclass2012</th>\n",
       "      <th>carclass_id2012</th>\n",
       "      <th>msrp2013</th>\n",
       "      <th>accelrate2013</th>\n",
       "      <th>mpg2013</th>\n",
       "      <th>mpgmpge2013</th>\n",
       "      <th>carclass2013</th>\n",
       "      <th>carclass_id2013</th>\n",
       "    </tr>\n",
       "  </thead>\n",
       "  <tbody>\n",
       "    <tr>\n",
       "      <th>0</th>\n",
       "      <td>ActiveHybrid 3</td>\n",
       "      <td>19006.62</td>\n",
       "      <td>9.35</td>\n",
       "      <td>50</td>\n",
       "      <td>50</td>\n",
       "      <td>C</td>\n",
       "      <td>1</td>\n",
       "      <td>19080</td>\n",
       "      <td>8.70</td>\n",
       "      <td>50</td>\n",
       "      <td>50</td>\n",
       "      <td>C</td>\n",
       "      <td>1</td>\n",
       "    </tr>\n",
       "    <tr>\n",
       "      <th>1</th>\n",
       "      <td>ActiveHybrid 5</td>\n",
       "      <td>32095.61</td>\n",
       "      <td>8.82</td>\n",
       "      <td>50</td>\n",
       "      <td>95</td>\n",
       "      <td>M</td>\n",
       "      <td>3</td>\n",
       "      <td>24995</td>\n",
       "      <td>12.66</td>\n",
       "      <td>45</td>\n",
       "      <td>45</td>\n",
       "      <td>C</td>\n",
       "      <td>1</td>\n",
       "    </tr>\n",
       "    <tr>\n",
       "      <th>2</th>\n",
       "      <td>Ampera</td>\n",
       "      <td>31739.55</td>\n",
       "      <td>11.11</td>\n",
       "      <td>37</td>\n",
       "      <td>98</td>\n",
       "      <td>C</td>\n",
       "      <td>1</td>\n",
       "      <td>24200</td>\n",
       "      <td>10.20</td>\n",
       "      <td>50</td>\n",
       "      <td>50</td>\n",
       "      <td>M</td>\n",
       "      <td>3</td>\n",
       "    </tr>\n",
       "    <tr>\n",
       "      <th>3</th>\n",
       "      <td>Camry LE</td>\n",
       "      <td>62180.23</td>\n",
       "      <td>16.67</td>\n",
       "      <td>26</td>\n",
       "      <td>26</td>\n",
       "      <td>M</td>\n",
       "      <td>3</td>\n",
       "      <td>18600</td>\n",
       "      <td>11.76</td>\n",
       "      <td>42</td>\n",
       "      <td>42</td>\n",
       "      <td>C</td>\n",
       "      <td>1</td>\n",
       "    </tr>\n",
       "    <tr>\n",
       "      <th>4</th>\n",
       "      <td>Chevrolet Volt</td>\n",
       "      <td>59126.14</td>\n",
       "      <td>16.95</td>\n",
       "      <td>31</td>\n",
       "      <td>31</td>\n",
       "      <td>M</td>\n",
       "      <td>3</td>\n",
       "      <td>69850</td>\n",
       "      <td>16.39</td>\n",
       "      <td>21</td>\n",
       "      <td>21</td>\n",
       "      <td>SUV</td>\n",
       "      <td>6</td>\n",
       "    </tr>\n",
       "  </tbody>\n",
       "</table>\n",
       "</div>"
      ],
      "text/plain": [
       "          vehicle  msrp2012  accelrate2012  mpg2012  mpgmpge2012 carclass2012  \\\n",
       "0  ActiveHybrid 3  19006.62           9.35       50           50            C   \n",
       "1  ActiveHybrid 5  32095.61           8.82       50           95            M   \n",
       "2          Ampera  31739.55          11.11       37           98            C   \n",
       "3        Camry LE  62180.23          16.67       26           26            M   \n",
       "4  Chevrolet Volt  59126.14          16.95       31           31            M   \n",
       "\n",
       "   carclass_id2012  msrp2013  accelrate2013  mpg2013  mpgmpge2013  \\\n",
       "0                1     19080           8.70       50           50   \n",
       "1                3     24995          12.66       45           45   \n",
       "2                1     24200          10.20       50           50   \n",
       "3                3     18600          11.76       42           42   \n",
       "4                3     69850          16.39       21           21   \n",
       "\n",
       "  carclass2013  carclass_id2013  \n",
       "0            C                1  \n",
       "1            C                1  \n",
       "2            M                3  \n",
       "3            C                1  \n",
       "4          SUV                6  "
      ]
     },
     "execution_count": 52,
     "metadata": {},
     "output_type": "execute_result"
    }
   ],
   "source": [
    "data2.head()"
   ]
  },
  {
   "cell_type": "code",
   "execution_count": 53,
   "metadata": {},
   "outputs": [],
   "source": [
    "### We are going to be comparing two groups, the mpg2012 and mpg2013"
   ]
  },
  {
   "cell_type": "code",
   "execution_count": 54,
   "metadata": {},
   "outputs": [],
   "source": [
    "### We will look for normality in the histograms again!\n",
    "### remember the syntax is the datasetname['column'].hist()"
   ]
  },
  {
   "cell_type": "code",
   "execution_count": 55,
   "metadata": {},
   "outputs": [
    {
     "data": {
      "text/plain": [
       "<AxesSubplot:>"
      ]
     },
     "execution_count": 55,
     "metadata": {},
     "output_type": "execute_result"
    },
    {
     "data": {
      "image/png": "[encoded data removed]",
      "text/plain": [
       "<Figure size 432x288 with 1 Axes>"
      ]
     },
     "metadata": {
      "needs_background": "light"
     },
     "output_type": "display_data"
    }
   ],
   "source": [
    "data2['mpg2012'].hist()"
   ]
  },
  {
   "cell_type": "code",
   "execution_count": 56,
   "metadata": {},
   "outputs": [],
   "source": [
    "#not normal but not terrible"
   ]
  },
  {
   "cell_type": "code",
   "execution_count": 57,
   "metadata": {},
   "outputs": [
    {
     "data": {
      "text/plain": [
       "<AxesSubplot:>"
      ]
     },
     "execution_count": 57,
     "metadata": {},
     "output_type": "execute_result"
    },
    {
     "data": {
      "image/png": "[encoded data removed]",
      "text/plain": [
       "<Figure size 432x288 with 1 Axes>"
      ]
     },
     "metadata": {
      "needs_background": "light"
     },
     "output_type": "display_data"
    }
   ],
   "source": [
    "data2['mpg2013'].hist()"
   ]
  },
  {
   "cell_type": "code",
   "execution_count": 59,
   "metadata": {},
   "outputs": [],
   "source": [
    "### also not normal"
   ]
  },
  {
   "cell_type": "code",
   "execution_count": 60,
   "metadata": {},
   "outputs": [],
   "source": [
    "### Running our analysis"
   ]
  },
  {
   "cell_type": "code",
   "execution_count": 61,
   "metadata": {},
   "outputs": [
    {
     "data": {
      "text/plain": [
       "Ttest_relResult(statistic=0.14466598084438312, pvalue=0.8873759030512348)"
      ]
     },
     "execution_count": 61,
     "metadata": {},
     "output_type": "execute_result"
    }
   ],
   "source": [
    "stats.ttest_rel(data2['mpg2012'], data2['mpg2013'])"
   ]
  },
  {
   "cell_type": "code",
   "execution_count": 62,
   "metadata": {},
   "outputs": [],
   "source": [
    "### p value is 0.888 which is not significant , pretty safe to say not too much changed in the mpg in only one \n",
    "### year from 2012 to 2013"
   ]
  },
  {
   "cell_type": "markdown",
   "metadata": {},
   "source": [
    "### Independent Chi Square"
   ]
  },
  {
   "cell_type": "code",
   "execution_count": 64,
   "metadata": {},
   "outputs": [],
   "source": [
    "### An independent Chi-Square is used when you want to determine whether two categorical variables influence each other."
   ]
  },
  {
   "cell_type": "code",
   "execution_count": 65,
   "metadata": {},
   "outputs": [],
   "source": [
    "## Reading in data on lipsticks"
   ]
  },
  {
   "cell_type": "code",
   "execution_count": 66,
   "metadata": {},
   "outputs": [],
   "source": [
    "data3 = pd.read_csv('.././Documents/DS Examples/data/lead_lipstick.csv')"
   ]
  },
  {
   "cell_type": "code",
   "execution_count": 67,
   "metadata": {},
   "outputs": [
    {
     "data": {
      "text/html": [
       "<div>\n",
       "<style scoped>\n",
       "    .dataframe tbody tr th:only-of-type {\n",
       "        vertical-align: middle;\n",
       "    }\n",
       "\n",
       "    .dataframe tbody tr th {\n",
       "        vertical-align: top;\n",
       "    }\n",
       "\n",
       "    .dataframe thead th {\n",
       "        text-align: right;\n",
       "    }\n",
       "</style>\n",
       "<table border=\"1\" class=\"dataframe\">\n",
       "  <thead>\n",
       "    <tr style=\"text-align: right;\">\n",
       "      <th></th>\n",
       "      <th>JRC_code</th>\n",
       "      <th>purchCntry</th>\n",
       "      <th>prodCntry</th>\n",
       "      <th>Pb</th>\n",
       "      <th>sdPb</th>\n",
       "      <th>shade</th>\n",
       "      <th>prodType</th>\n",
       "      <th>priceCatgry</th>\n",
       "    </tr>\n",
       "  </thead>\n",
       "  <tbody>\n",
       "    <tr>\n",
       "      <th>0</th>\n",
       "      <td>C135</td>\n",
       "      <td>NL</td>\n",
       "      <td>NL</td>\n",
       "      <td>3.75</td>\n",
       "      <td>0.24</td>\n",
       "      <td>Red</td>\n",
       "      <td>LP</td>\n",
       "      <td>2</td>\n",
       "    </tr>\n",
       "    <tr>\n",
       "      <th>1</th>\n",
       "      <td>C18</td>\n",
       "      <td>FI</td>\n",
       "      <td>FI</td>\n",
       "      <td>2.29</td>\n",
       "      <td>0.07</td>\n",
       "      <td>Red</td>\n",
       "      <td>LP</td>\n",
       "      <td>2</td>\n",
       "    </tr>\n",
       "    <tr>\n",
       "      <th>2</th>\n",
       "      <td>C20</td>\n",
       "      <td>FI</td>\n",
       "      <td>IT</td>\n",
       "      <td>1.27</td>\n",
       "      <td>0.06</td>\n",
       "      <td>Red</td>\n",
       "      <td>LP</td>\n",
       "      <td>2</td>\n",
       "    </tr>\n",
       "    <tr>\n",
       "      <th>3</th>\n",
       "      <td>C164</td>\n",
       "      <td>DE</td>\n",
       "      <td>FR</td>\n",
       "      <td>1.21</td>\n",
       "      <td>0.06</td>\n",
       "      <td>Red</td>\n",
       "      <td>LP</td>\n",
       "      <td>2</td>\n",
       "    </tr>\n",
       "    <tr>\n",
       "      <th>4</th>\n",
       "      <td>C71</td>\n",
       "      <td>MT</td>\n",
       "      <td>UK</td>\n",
       "      <td>0.85</td>\n",
       "      <td>0.04</td>\n",
       "      <td>Red</td>\n",
       "      <td>LP</td>\n",
       "      <td>2</td>\n",
       "    </tr>\n",
       "  </tbody>\n",
       "</table>\n",
       "</div>"
      ],
      "text/plain": [
       "  JRC_code purchCntry prodCntry    Pb  sdPb shade prodType  priceCatgry\n",
       "0     C135         NL        NL  3.75  0.24   Red       LP            2\n",
       "1      C18         FI        FI  2.29  0.07   Red       LP            2\n",
       "2      C20         FI        IT  1.27  0.06   Red       LP            2\n",
       "3     C164         DE        FR  1.21  0.06   Red       LP            2\n",
       "4      C71         MT        UK  0.85  0.04   Red       LP            2"
      ]
     },
     "execution_count": 67,
     "metadata": {},
     "output_type": "execute_result"
    }
   ],
   "source": [
    "data3.head()"
   ]
  },
  {
   "cell_type": "code",
   "execution_count": 69,
   "metadata": {},
   "outputs": [],
   "source": [
    "#We are going to do a different example than the lesson we let's look at if shade of lipstick varies by the purchasing country!"
   ]
  },
  {
   "cell_type": "code",
   "execution_count": 70,
   "metadata": {},
   "outputs": [],
   "source": [
    "#We will create a contingency table (aka crosstab) before we run the independent Chi-Square analysis!\n",
    "#which shows how each level of each variable crosses with the other variable levels. \n",
    "#pandas package contains the function called crosstab()  (page 11 from the lesson)"
   ]
  },
  {
   "cell_type": "code",
   "execution_count": 71,
   "metadata": {},
   "outputs": [],
   "source": [
    "lipstick_crosstab = pd.crosstab(data3['purchCntry'], data3['shade'])"
   ]
  },
  {
   "cell_type": "code",
   "execution_count": 72,
   "metadata": {},
   "outputs": [
    {
     "data": {
      "text/html": [
       "<div>\n",
       "<style scoped>\n",
       "    .dataframe tbody tr th:only-of-type {\n",
       "        vertical-align: middle;\n",
       "    }\n",
       "\n",
       "    .dataframe tbody tr th {\n",
       "        vertical-align: top;\n",
       "    }\n",
       "\n",
       "    .dataframe thead th {\n",
       "        text-align: right;\n",
       "    }\n",
       "</style>\n",
       "<table border=\"1\" class=\"dataframe\">\n",
       "  <thead>\n",
       "    <tr style=\"text-align: right;\">\n",
       "      <th>shade</th>\n",
       "      <th>Brown</th>\n",
       "      <th>Pink</th>\n",
       "      <th>Purple</th>\n",
       "      <th>Red</th>\n",
       "    </tr>\n",
       "    <tr>\n",
       "      <th>purchCntry</th>\n",
       "      <th></th>\n",
       "      <th></th>\n",
       "      <th></th>\n",
       "      <th></th>\n",
       "    </tr>\n",
       "  </thead>\n",
       "  <tbody>\n",
       "    <tr>\n",
       "      <th>AT</th>\n",
       "      <td>4</td>\n",
       "      <td>4</td>\n",
       "      <td>4</td>\n",
       "      <td>3</td>\n",
       "    </tr>\n",
       "    <tr>\n",
       "      <th>BE</th>\n",
       "      <td>2</td>\n",
       "      <td>4</td>\n",
       "      <td>5</td>\n",
       "      <td>4</td>\n",
       "    </tr>\n",
       "    <tr>\n",
       "      <th>CZ</th>\n",
       "      <td>4</td>\n",
       "      <td>11</td>\n",
       "      <td>0</td>\n",
       "      <td>1</td>\n",
       "    </tr>\n",
       "    <tr>\n",
       "      <th>DE</th>\n",
       "      <td>4</td>\n",
       "      <td>4</td>\n",
       "      <td>1</td>\n",
       "      <td>3</td>\n",
       "    </tr>\n",
       "    <tr>\n",
       "      <th>EL</th>\n",
       "      <td>3</td>\n",
       "      <td>7</td>\n",
       "      <td>1</td>\n",
       "      <td>3</td>\n",
       "    </tr>\n",
       "    <tr>\n",
       "      <th>ES</th>\n",
       "      <td>8</td>\n",
       "      <td>2</td>\n",
       "      <td>3</td>\n",
       "      <td>2</td>\n",
       "    </tr>\n",
       "    <tr>\n",
       "      <th>FI</th>\n",
       "      <td>3</td>\n",
       "      <td>9</td>\n",
       "      <td>1</td>\n",
       "      <td>3</td>\n",
       "    </tr>\n",
       "    <tr>\n",
       "      <th>FR</th>\n",
       "      <td>5</td>\n",
       "      <td>5</td>\n",
       "      <td>1</td>\n",
       "      <td>4</td>\n",
       "    </tr>\n",
       "    <tr>\n",
       "      <th>IT</th>\n",
       "      <td>4</td>\n",
       "      <td>11</td>\n",
       "      <td>4</td>\n",
       "      <td>2</td>\n",
       "    </tr>\n",
       "    <tr>\n",
       "      <th>LT</th>\n",
       "      <td>4</td>\n",
       "      <td>6</td>\n",
       "      <td>3</td>\n",
       "      <td>3</td>\n",
       "    </tr>\n",
       "    <tr>\n",
       "      <th>MT</th>\n",
       "      <td>5</td>\n",
       "      <td>4</td>\n",
       "      <td>2</td>\n",
       "      <td>4</td>\n",
       "    </tr>\n",
       "    <tr>\n",
       "      <th>NL</th>\n",
       "      <td>4</td>\n",
       "      <td>2</td>\n",
       "      <td>5</td>\n",
       "      <td>3</td>\n",
       "    </tr>\n",
       "    <tr>\n",
       "      <th>PL</th>\n",
       "      <td>3</td>\n",
       "      <td>6</td>\n",
       "      <td>4</td>\n",
       "      <td>2</td>\n",
       "    </tr>\n",
       "    <tr>\n",
       "      <th>PT</th>\n",
       "      <td>6</td>\n",
       "      <td>4</td>\n",
       "      <td>0</td>\n",
       "      <td>5</td>\n",
       "    </tr>\n",
       "    <tr>\n",
       "      <th>UK</th>\n",
       "      <td>1</td>\n",
       "      <td>2</td>\n",
       "      <td>3</td>\n",
       "      <td>3</td>\n",
       "    </tr>\n",
       "  </tbody>\n",
       "</table>\n",
       "</div>"
      ],
      "text/plain": [
       "shade       Brown  Pink  Purple  Red\n",
       "purchCntry                          \n",
       "AT              4     4       4    3\n",
       "BE              2     4       5    4\n",
       "CZ              4    11       0    1\n",
       "DE              4     4       1    3\n",
       "EL              3     7       1    3\n",
       "ES              8     2       3    2\n",
       "FI              3     9       1    3\n",
       "FR              5     5       1    4\n",
       "IT              4    11       4    2\n",
       "LT              4     6       3    3\n",
       "MT              5     4       2    4\n",
       "NL              4     2       5    3\n",
       "PL              3     6       4    2\n",
       "PT              6     4       0    5\n",
       "UK              1     2       3    3"
      ]
     },
     "execution_count": 72,
     "metadata": {},
     "output_type": "execute_result"
    }
   ],
   "source": [
    "lipstick_crosstab"
   ]
  },
  {
   "cell_type": "code",
   "execution_count": 73,
   "metadata": {},
   "outputs": [],
   "source": [
    "### Above you can see which countries got which shades of lipstick"
   ]
  },
  {
   "cell_type": "code",
   "execution_count": 75,
   "metadata": {},
   "outputs": [
    {
     "data": {
      "text/plain": [
       "(47.73664134703487,\n",
       " 0.2509425596132608,\n",
       " 42,\n",
       " array([[4.03587444, 5.44843049, 2.48878924, 3.02690583],\n",
       "        [4.03587444, 5.44843049, 2.48878924, 3.02690583],\n",
       "        [4.30493274, 5.81165919, 2.65470852, 3.22869955],\n",
       "        [3.22869955, 4.35874439, 1.99103139, 2.42152466],\n",
       "        [3.76681614, 5.08520179, 2.32286996, 2.82511211],\n",
       "        [4.03587444, 5.44843049, 2.48878924, 3.02690583],\n",
       "        [4.30493274, 5.81165919, 2.65470852, 3.22869955],\n",
       "        [4.03587444, 5.44843049, 2.48878924, 3.02690583],\n",
       "        [5.65022422, 7.62780269, 3.48430493, 4.23766816],\n",
       "        [4.30493274, 5.81165919, 2.65470852, 3.22869955],\n",
       "        [4.03587444, 5.44843049, 2.48878924, 3.02690583],\n",
       "        [3.76681614, 5.08520179, 2.32286996, 2.82511211],\n",
       "        [4.03587444, 5.44843049, 2.48878924, 3.02690583],\n",
       "        [4.03587444, 5.44843049, 2.48878924, 3.02690583],\n",
       "        [2.42152466, 3.2690583 , 1.49327354, 1.8161435 ]]))"
      ]
     },
     "execution_count": 75,
     "metadata": {},
     "output_type": "execute_result"
    }
   ],
   "source": [
    "stats.chi2_contingency(lipstick_crosstab)"
   ]
  },
  {
   "cell_type": "code",
   "execution_count": 80,
   "metadata": {},
   "outputs": [],
   "source": [
    "### We can see the p value is 0.25 so the results are not significant and there is not a significant relationship between\n",
    "### country and lipstick shade but wait...\n",
    "### Notice above how many of the cells are less than 5, that would mean that this would not be appropriate to draw\n",
    "### conclusions from this analysis as to meet the assumptions cells need to be at a minimum of 5. "
   ]
  },
  {
   "cell_type": "markdown",
   "metadata": {},
   "source": [
    "### Correlation Matrix!!"
   ]
  },
  {
   "cell_type": "code",
   "execution_count": 82,
   "metadata": {},
   "outputs": [],
   "source": [
    "#This one is my fav!!\n",
    "#look at correlations between variables "
   ]
  },
  {
   "cell_type": "code",
   "execution_count": 83,
   "metadata": {},
   "outputs": [],
   "source": [
    "#read in dataset"
   ]
  },
  {
   "cell_type": "code",
   "execution_count": 85,
   "metadata": {},
   "outputs": [],
   "source": [
    "data4 = pd.read_excel('.././Documents/DS Examples/data/cruise_ship.xlsx')"
   ]
  },
  {
   "cell_type": "code",
   "execution_count": 86,
   "metadata": {},
   "outputs": [
    {
     "data": {
      "text/html": [
       "<div>\n",
       "<style scoped>\n",
       "    .dataframe tbody tr th:only-of-type {\n",
       "        vertical-align: middle;\n",
       "    }\n",
       "\n",
       "    .dataframe tbody tr th {\n",
       "        vertical-align: top;\n",
       "    }\n",
       "\n",
       "    .dataframe thead th {\n",
       "        text-align: right;\n",
       "    }\n",
       "</style>\n",
       "<table border=\"1\" class=\"dataframe\">\n",
       "  <thead>\n",
       "    <tr style=\"text-align: right;\">\n",
       "      <th></th>\n",
       "      <th>Ship</th>\n",
       "      <th>Line</th>\n",
       "      <th>YearBlt</th>\n",
       "      <th>Tonnage</th>\n",
       "      <th>passngrs</th>\n",
       "      <th>Length</th>\n",
       "      <th>Cabins</th>\n",
       "      <th>Crew</th>\n",
       "      <th>PassSpcR</th>\n",
       "      <th>outcab</th>\n",
       "    </tr>\n",
       "  </thead>\n",
       "  <tbody>\n",
       "    <tr>\n",
       "      <th>0</th>\n",
       "      <td>Journey</td>\n",
       "      <td>Azamara</td>\n",
       "      <td>2007</td>\n",
       "      <td>30277</td>\n",
       "      <td>694</td>\n",
       "      <td>594</td>\n",
       "      <td>355</td>\n",
       "      <td>355</td>\n",
       "      <td>42.64</td>\n",
       "      <td>329</td>\n",
       "    </tr>\n",
       "    <tr>\n",
       "      <th>1</th>\n",
       "      <td>Quest</td>\n",
       "      <td>Azamara</td>\n",
       "      <td>2007</td>\n",
       "      <td>30277</td>\n",
       "      <td>694</td>\n",
       "      <td>594</td>\n",
       "      <td>355</td>\n",
       "      <td>355</td>\n",
       "      <td>42.64</td>\n",
       "      <td>329</td>\n",
       "    </tr>\n",
       "    <tr>\n",
       "      <th>2</th>\n",
       "      <td>Celebration</td>\n",
       "      <td>Carnival</td>\n",
       "      <td>1987</td>\n",
       "      <td>47262</td>\n",
       "      <td>1486</td>\n",
       "      <td>722</td>\n",
       "      <td>743</td>\n",
       "      <td>670</td>\n",
       "      <td>31.80</td>\n",
       "      <td>453</td>\n",
       "    </tr>\n",
       "    <tr>\n",
       "      <th>3</th>\n",
       "      <td>Conquest</td>\n",
       "      <td>Carnival</td>\n",
       "      <td>2002</td>\n",
       "      <td>110000</td>\n",
       "      <td>2974</td>\n",
       "      <td>953</td>\n",
       "      <td>1488</td>\n",
       "      <td>1910</td>\n",
       "      <td>36.99</td>\n",
       "      <td>892</td>\n",
       "    </tr>\n",
       "    <tr>\n",
       "      <th>4</th>\n",
       "      <td>Destiny</td>\n",
       "      <td>Carnival</td>\n",
       "      <td>1996</td>\n",
       "      <td>101353</td>\n",
       "      <td>2642</td>\n",
       "      <td>892</td>\n",
       "      <td>1321</td>\n",
       "      <td>1000</td>\n",
       "      <td>38.36</td>\n",
       "      <td>740</td>\n",
       "    </tr>\n",
       "  </tbody>\n",
       "</table>\n",
       "</div>"
      ],
      "text/plain": [
       "          Ship      Line  YearBlt  Tonnage  passngrs  Length  Cabins  Crew  \\\n",
       "0      Journey   Azamara     2007    30277       694     594     355   355   \n",
       "1        Quest   Azamara     2007    30277       694     594     355   355   \n",
       "2  Celebration  Carnival     1987    47262      1486     722     743   670   \n",
       "3     Conquest  Carnival     2002   110000      2974     953    1488  1910   \n",
       "4      Destiny  Carnival     1996   101353      2642     892    1321  1000   \n",
       "\n",
       "   PassSpcR  outcab  \n",
       "0     42.64     329  \n",
       "1     42.64     329  \n",
       "2     31.80     453  \n",
       "3     36.99     892  \n",
       "4     38.36     740  "
      ]
     },
     "execution_count": 86,
     "metadata": {},
     "output_type": "execute_result"
    }
   ],
   "source": [
    "data4.head()"
   ]
  },
  {
   "cell_type": "code",
   "execution_count": 87,
   "metadata": {},
   "outputs": [],
   "source": [
    "### So a correlation matrix shows the strength of correlations between variables, so as you may have guessed, we need to remove\n",
    "### columns that are categorical. Only continuous variables can be used so we will drop the two columns Ship and Line\n",
    "### There are multiple ways to drop columns here is one way:"
   ]
  },
  {
   "cell_type": "code",
   "execution_count": 88,
   "metadata": {},
   "outputs": [],
   "source": [
    "cruise_ship1 = data4.drop(['Ship', 'Line'], axis=1)"
   ]
  },
  {
   "cell_type": "code",
   "execution_count": 90,
   "metadata": {},
   "outputs": [],
   "source": [
    "#Now we can run our data we called cruise_ship1 to follow along with the lesson so you can see the data without those two \n",
    "#columns. Do you remember the code to see the first 6 rows of data?\n",
    "#it's head()!"
   ]
  },
  {
   "cell_type": "code",
   "execution_count": 91,
   "metadata": {},
   "outputs": [
    {
     "data": {
      "text/html": [
       "<div>\n",
       "<style scoped>\n",
       "    .dataframe tbody tr th:only-of-type {\n",
       "        vertical-align: middle;\n",
       "    }\n",
       "\n",
       "    .dataframe tbody tr th {\n",
       "        vertical-align: top;\n",
       "    }\n",
       "\n",
       "    .dataframe thead th {\n",
       "        text-align: right;\n",
       "    }\n",
       "</style>\n",
       "<table border=\"1\" class=\"dataframe\">\n",
       "  <thead>\n",
       "    <tr style=\"text-align: right;\">\n",
       "      <th></th>\n",
       "      <th>YearBlt</th>\n",
       "      <th>Tonnage</th>\n",
       "      <th>passngrs</th>\n",
       "      <th>Length</th>\n",
       "      <th>Cabins</th>\n",
       "      <th>Crew</th>\n",
       "      <th>PassSpcR</th>\n",
       "      <th>outcab</th>\n",
       "    </tr>\n",
       "  </thead>\n",
       "  <tbody>\n",
       "    <tr>\n",
       "      <th>0</th>\n",
       "      <td>2007</td>\n",
       "      <td>30277</td>\n",
       "      <td>694</td>\n",
       "      <td>594</td>\n",
       "      <td>355</td>\n",
       "      <td>355</td>\n",
       "      <td>42.64</td>\n",
       "      <td>329</td>\n",
       "    </tr>\n",
       "    <tr>\n",
       "      <th>1</th>\n",
       "      <td>2007</td>\n",
       "      <td>30277</td>\n",
       "      <td>694</td>\n",
       "      <td>594</td>\n",
       "      <td>355</td>\n",
       "      <td>355</td>\n",
       "      <td>42.64</td>\n",
       "      <td>329</td>\n",
       "    </tr>\n",
       "    <tr>\n",
       "      <th>2</th>\n",
       "      <td>1987</td>\n",
       "      <td>47262</td>\n",
       "      <td>1486</td>\n",
       "      <td>722</td>\n",
       "      <td>743</td>\n",
       "      <td>670</td>\n",
       "      <td>31.80</td>\n",
       "      <td>453</td>\n",
       "    </tr>\n",
       "    <tr>\n",
       "      <th>3</th>\n",
       "      <td>2002</td>\n",
       "      <td>110000</td>\n",
       "      <td>2974</td>\n",
       "      <td>953</td>\n",
       "      <td>1488</td>\n",
       "      <td>1910</td>\n",
       "      <td>36.99</td>\n",
       "      <td>892</td>\n",
       "    </tr>\n",
       "    <tr>\n",
       "      <th>4</th>\n",
       "      <td>1996</td>\n",
       "      <td>101353</td>\n",
       "      <td>2642</td>\n",
       "      <td>892</td>\n",
       "      <td>1321</td>\n",
       "      <td>1000</td>\n",
       "      <td>38.36</td>\n",
       "      <td>740</td>\n",
       "    </tr>\n",
       "  </tbody>\n",
       "</table>\n",
       "</div>"
      ],
      "text/plain": [
       "   YearBlt  Tonnage  passngrs  Length  Cabins  Crew  PassSpcR  outcab\n",
       "0     2007    30277       694     594     355   355     42.64     329\n",
       "1     2007    30277       694     594     355   355     42.64     329\n",
       "2     1987    47262      1486     722     743   670     31.80     453\n",
       "3     2002   110000      2974     953    1488  1910     36.99     892\n",
       "4     1996   101353      2642     892    1321  1000     38.36     740"
      ]
     },
     "execution_count": 91,
     "metadata": {},
     "output_type": "execute_result"
    }
   ],
   "source": [
    "cruise_ship1.head()"
   ]
  },
  {
   "cell_type": "code",
   "execution_count": 92,
   "metadata": {},
   "outputs": [],
   "source": [
    "##Tada! Now we are ready for the correlation matrix, however before we do that , I am going to show you another way to drop columns\n",
    "##You can also create a new dataframe and only select the columns you want to keep:\n",
    "##See below , I only took the columns that I know easily what it means without a key"
   ]
  },
  {
   "cell_type": "code",
   "execution_count": 93,
   "metadata": {},
   "outputs": [],
   "source": [
    "select_what_you_want = cruise_ship1[['YearBlt', 'passngrs', 'Length', 'Cabins', 'Crew']]"
   ]
  },
  {
   "cell_type": "code",
   "execution_count": 94,
   "metadata": {},
   "outputs": [
    {
     "data": {
      "text/html": [
       "<div>\n",
       "<style scoped>\n",
       "    .dataframe tbody tr th:only-of-type {\n",
       "        vertical-align: middle;\n",
       "    }\n",
       "\n",
       "    .dataframe tbody tr th {\n",
       "        vertical-align: top;\n",
       "    }\n",
       "\n",
       "    .dataframe thead th {\n",
       "        text-align: right;\n",
       "    }\n",
       "</style>\n",
       "<table border=\"1\" class=\"dataframe\">\n",
       "  <thead>\n",
       "    <tr style=\"text-align: right;\">\n",
       "      <th></th>\n",
       "      <th>YearBlt</th>\n",
       "      <th>passngrs</th>\n",
       "      <th>Length</th>\n",
       "      <th>Cabins</th>\n",
       "      <th>Crew</th>\n",
       "    </tr>\n",
       "  </thead>\n",
       "  <tbody>\n",
       "    <tr>\n",
       "      <th>0</th>\n",
       "      <td>2007</td>\n",
       "      <td>694</td>\n",
       "      <td>594</td>\n",
       "      <td>355</td>\n",
       "      <td>355</td>\n",
       "    </tr>\n",
       "    <tr>\n",
       "      <th>1</th>\n",
       "      <td>2007</td>\n",
       "      <td>694</td>\n",
       "      <td>594</td>\n",
       "      <td>355</td>\n",
       "      <td>355</td>\n",
       "    </tr>\n",
       "    <tr>\n",
       "      <th>2</th>\n",
       "      <td>1987</td>\n",
       "      <td>1486</td>\n",
       "      <td>722</td>\n",
       "      <td>743</td>\n",
       "      <td>670</td>\n",
       "    </tr>\n",
       "    <tr>\n",
       "      <th>3</th>\n",
       "      <td>2002</td>\n",
       "      <td>2974</td>\n",
       "      <td>953</td>\n",
       "      <td>1488</td>\n",
       "      <td>1910</td>\n",
       "    </tr>\n",
       "    <tr>\n",
       "      <th>4</th>\n",
       "      <td>1996</td>\n",
       "      <td>2642</td>\n",
       "      <td>892</td>\n",
       "      <td>1321</td>\n",
       "      <td>1000</td>\n",
       "    </tr>\n",
       "  </tbody>\n",
       "</table>\n",
       "</div>"
      ],
      "text/plain": [
       "   YearBlt  passngrs  Length  Cabins  Crew\n",
       "0     2007       694     594     355   355\n",
       "1     2007       694     594     355   355\n",
       "2     1987      1486     722     743   670\n",
       "3     2002      2974     953    1488  1910\n",
       "4     1996      2642     892    1321  1000"
      ]
     },
     "execution_count": 94,
     "metadata": {},
     "output_type": "execute_result"
    }
   ],
   "source": [
    "select_what_you_want.head()"
   ]
  },
  {
   "cell_type": "code",
   "execution_count": 106,
   "metadata": {},
   "outputs": [],
   "source": [
    "### So that our correlation matrix looks pretty we are going to use the first one so we have more columns to compare:)\n",
    "### Now the code below, you can copy and paste that and just change the dataset name to match what you are working on (assuming \n",
    "### you removed the categorical variables as well like we did here). I changed the color gradient to turbo here for more contrast\n"
   ]
  },
  {
   "cell_type": "code",
   "execution_count": 105,
   "metadata": {},
   "outputs": [
    {
     "data": {
      "text/html": [
       "<style  type=\"text/css\" >\n",
       "#T_991a0502_8a1e_11ec_8848_94e70b349dcdrow0_col0,#T_991a0502_8a1e_11ec_8848_94e70b349dcdrow1_col1,#T_991a0502_8a1e_11ec_8848_94e70b349dcdrow2_col2,#T_991a0502_8a1e_11ec_8848_94e70b349dcdrow3_col3,#T_991a0502_8a1e_11ec_8848_94e70b349dcdrow4_col4,#T_991a0502_8a1e_11ec_8848_94e70b349dcdrow5_col5,#T_991a0502_8a1e_11ec_8848_94e70b349dcdrow6_col6,#T_991a0502_8a1e_11ec_8848_94e70b349dcdrow7_col7{\n",
       "            background-color:  #7a0403;\n",
       "            color:  #f1f1f1;\n",
       "        }#T_991a0502_8a1e_11ec_8848_94e70b349dcdrow0_col1{\n",
       "            background-color:  #7dff56;\n",
       "            color:  #000000;\n",
       "        }#T_991a0502_8a1e_11ec_8848_94e70b349dcdrow0_col2{\n",
       "            background-color:  #19e3b9;\n",
       "            color:  #000000;\n",
       "        }#T_991a0502_8a1e_11ec_8848_94e70b349dcdrow0_col3,#T_991a0502_8a1e_11ec_8848_94e70b349dcdrow0_col5{\n",
       "            background-color:  #20eaac;\n",
       "            color:  #000000;\n",
       "        }#T_991a0502_8a1e_11ec_8848_94e70b349dcdrow0_col4{\n",
       "            background-color:  #18e0bd;\n",
       "            color:  #000000;\n",
       "        }#T_991a0502_8a1e_11ec_8848_94e70b349dcdrow0_col6,#T_991a0502_8a1e_11ec_8848_94e70b349dcdrow1_col6,#T_991a0502_8a1e_11ec_8848_94e70b349dcdrow2_col6,#T_991a0502_8a1e_11ec_8848_94e70b349dcdrow3_col6,#T_991a0502_8a1e_11ec_8848_94e70b349dcdrow4_col6,#T_991a0502_8a1e_11ec_8848_94e70b349dcdrow5_col6,#T_991a0502_8a1e_11ec_8848_94e70b349dcdrow6_col2,#T_991a0502_8a1e_11ec_8848_94e70b349dcdrow7_col6{\n",
       "            background-color:  #30123b;\n",
       "            color:  #f1f1f1;\n",
       "        }#T_991a0502_8a1e_11ec_8848_94e70b349dcdrow0_col7{\n",
       "            background-color:  #2ff19b;\n",
       "            color:  #000000;\n",
       "        }#T_991a0502_8a1e_11ec_8848_94e70b349dcdrow1_col0{\n",
       "            background-color:  #ecd13a;\n",
       "            color:  #000000;\n",
       "        }#T_991a0502_8a1e_11ec_8848_94e70b349dcdrow1_col2,#T_991a0502_8a1e_11ec_8848_94e70b349dcdrow4_col7{\n",
       "            background-color:  #a41301;\n",
       "            color:  #f1f1f1;\n",
       "        }#T_991a0502_8a1e_11ec_8848_94e70b349dcdrow1_col3,#T_991a0502_8a1e_11ec_8848_94e70b349dcdrow1_col7,#T_991a0502_8a1e_11ec_8848_94e70b349dcdrow7_col2{\n",
       "            background-color:  #b41b01;\n",
       "            color:  #f1f1f1;\n",
       "        }#T_991a0502_8a1e_11ec_8848_94e70b349dcdrow1_col4{\n",
       "            background-color:  #a11201;\n",
       "            color:  #f1f1f1;\n",
       "        }#T_991a0502_8a1e_11ec_8848_94e70b349dcdrow1_col5,#T_991a0502_8a1e_11ec_8848_94e70b349dcdrow7_col1{\n",
       "            background-color:  #af1801;\n",
       "            color:  #f1f1f1;\n",
       "        }#T_991a0502_8a1e_11ec_8848_94e70b349dcdrow2_col0{\n",
       "            background-color:  #eecf3a;\n",
       "            color:  #000000;\n",
       "        }#T_991a0502_8a1e_11ec_8848_94e70b349dcdrow2_col1,#T_991a0502_8a1e_11ec_8848_94e70b349dcdrow4_col1,#T_991a0502_8a1e_11ec_8848_94e70b349dcdrow4_col5,#T_991a0502_8a1e_11ec_8848_94e70b349dcdrow5_col4{\n",
       "            background-color:  #9b0f01;\n",
       "            color:  #f1f1f1;\n",
       "        }#T_991a0502_8a1e_11ec_8848_94e70b349dcdrow2_col3,#T_991a0502_8a1e_11ec_8848_94e70b349dcdrow3_col7,#T_991a0502_8a1e_11ec_8848_94e70b349dcdrow5_col3{\n",
       "            background-color:  #be2102;\n",
       "            color:  #f1f1f1;\n",
       "        }#T_991a0502_8a1e_11ec_8848_94e70b349dcdrow2_col4,#T_991a0502_8a1e_11ec_8848_94e70b349dcdrow4_col2{\n",
       "            background-color:  #880802;\n",
       "            color:  #f1f1f1;\n",
       "        }#T_991a0502_8a1e_11ec_8848_94e70b349dcdrow2_col5,#T_991a0502_8a1e_11ec_8848_94e70b349dcdrow2_col7,#T_991a0502_8a1e_11ec_8848_94e70b349dcdrow5_col1{\n",
       "            background-color:  #ac1701;\n",
       "            color:  #f1f1f1;\n",
       "        }#T_991a0502_8a1e_11ec_8848_94e70b349dcdrow3_col0{\n",
       "            background-color:  #d2e935;\n",
       "            color:  #000000;\n",
       "        }#T_991a0502_8a1e_11ec_8848_94e70b349dcdrow3_col1,#T_991a0502_8a1e_11ec_8848_94e70b349dcdrow5_col2{\n",
       "            background-color:  #b21a01;\n",
       "            color:  #f1f1f1;\n",
       "        }#T_991a0502_8a1e_11ec_8848_94e70b349dcdrow3_col2{\n",
       "            background-color:  #c82803;\n",
       "            color:  #f1f1f1;\n",
       "        }#T_991a0502_8a1e_11ec_8848_94e70b349dcdrow3_col4{\n",
       "            background-color:  #c32503;\n",
       "            color:  #f1f1f1;\n",
       "        }#T_991a0502_8a1e_11ec_8848_94e70b349dcdrow3_col5{\n",
       "            background-color:  #c12302;\n",
       "            color:  #f1f1f1;\n",
       "        }#T_991a0502_8a1e_11ec_8848_94e70b349dcdrow4_col0{\n",
       "            background-color:  #e5d938;\n",
       "            color:  #000000;\n",
       "        }#T_991a0502_8a1e_11ec_8848_94e70b349dcdrow4_col3,#T_991a0502_8a1e_11ec_8848_94e70b349dcdrow5_col7,#T_991a0502_8a1e_11ec_8848_94e70b349dcdrow7_col3,#T_991a0502_8a1e_11ec_8848_94e70b349dcdrow7_col5{\n",
       "            background-color:  #bc2002;\n",
       "            color:  #f1f1f1;\n",
       "        }#T_991a0502_8a1e_11ec_8848_94e70b349dcdrow5_col0{\n",
       "            background-color:  #dfdf37;\n",
       "            color:  #000000;\n",
       "        }#T_991a0502_8a1e_11ec_8848_94e70b349dcdrow6_col0{\n",
       "            background-color:  #71fe5f;\n",
       "            color:  #000000;\n",
       "        }#T_991a0502_8a1e_11ec_8848_94e70b349dcdrow6_col1{\n",
       "            background-color:  #4099ff;\n",
       "            color:  #000000;\n",
       "        }#T_991a0502_8a1e_11ec_8848_94e70b349dcdrow6_col3{\n",
       "            background-color:  #4680f6;\n",
       "            color:  #000000;\n",
       "        }#T_991a0502_8a1e_11ec_8848_94e70b349dcdrow6_col4{\n",
       "            background-color:  #392a73;\n",
       "            color:  #f1f1f1;\n",
       "        }#T_991a0502_8a1e_11ec_8848_94e70b349dcdrow6_col5{\n",
       "            background-color:  #455ed3;\n",
       "            color:  #f1f1f1;\n",
       "        }#T_991a0502_8a1e_11ec_8848_94e70b349dcdrow6_col7{\n",
       "            background-color:  #4664da;\n",
       "            color:  #f1f1f1;\n",
       "        }#T_991a0502_8a1e_11ec_8848_94e70b349dcdrow7_col0{\n",
       "            background-color:  #e3db38;\n",
       "            color:  #000000;\n",
       "        }#T_991a0502_8a1e_11ec_8848_94e70b349dcdrow7_col4{\n",
       "            background-color:  #a71401;\n",
       "            color:  #f1f1f1;\n",
       "        }</style><table id=\"T_991a0502_8a1e_11ec_8848_94e70b349dcd\" ><thead>    <tr>        <th class=\"blank level0\" ></th>        <th class=\"col_heading level0 col0\" >YearBlt</th>        <th class=\"col_heading level0 col1\" >Tonnage</th>        <th class=\"col_heading level0 col2\" >passngrs</th>        <th class=\"col_heading level0 col3\" >Length</th>        <th class=\"col_heading level0 col4\" >Cabins</th>        <th class=\"col_heading level0 col5\" >Crew</th>        <th class=\"col_heading level0 col6\" >PassSpcR</th>        <th class=\"col_heading level0 col7\" >outcab</th>    </tr></thead><tbody>\n",
       "                <tr>\n",
       "                        <th id=\"T_991a0502_8a1e_11ec_8848_94e70b349dcdlevel0_row0\" class=\"row_heading level0 row0\" >YearBlt</th>\n",
       "                        <td id=\"T_991a0502_8a1e_11ec_8848_94e70b349dcdrow0_col0\" class=\"data row0 col0\" >1.0</td>\n",
       "                        <td id=\"T_991a0502_8a1e_11ec_8848_94e70b349dcdrow0_col1\" class=\"data row0 col1\" >0.60665</td>\n",
       "                        <td id=\"T_991a0502_8a1e_11ec_8848_94e70b349dcdrow0_col2\" class=\"data row0 col2\" >0.51554</td>\n",
       "                        <td id=\"T_991a0502_8a1e_11ec_8848_94e70b349dcdrow0_col3\" class=\"data row0 col3\" >0.53229</td>\n",
       "                        <td id=\"T_991a0502_8a1e_11ec_8848_94e70b349dcdrow0_col4\" class=\"data row0 col4\" >0.51002</td>\n",
       "                        <td id=\"T_991a0502_8a1e_11ec_8848_94e70b349dcdrow0_col5\" class=\"data row0 col5\" >0.53066</td>\n",
       "                        <td id=\"T_991a0502_8a1e_11ec_8848_94e70b349dcdrow0_col6\" class=\"data row0 col6\" >0.27883</td>\n",
       "                        <td id=\"T_991a0502_8a1e_11ec_8848_94e70b349dcdrow0_col7\" class=\"data row0 col7\" >0.5472</td>\n",
       "            </tr>\n",
       "            <tr>\n",
       "                        <th id=\"T_991a0502_8a1e_11ec_8848_94e70b349dcdlevel0_row1\" class=\"row_heading level0 row1\" >Tonnage</th>\n",
       "                        <td id=\"T_991a0502_8a1e_11ec_8848_94e70b349dcdrow1_col0\" class=\"data row1 col0\" >0.60665</td>\n",
       "                        <td id=\"T_991a0502_8a1e_11ec_8848_94e70b349dcdrow1_col1\" class=\"data row1 col1\" >1.0</td>\n",
       "                        <td id=\"T_991a0502_8a1e_11ec_8848_94e70b349dcdrow1_col2\" class=\"data row1 col2\" >0.94506</td>\n",
       "                        <td id=\"T_991a0502_8a1e_11ec_8848_94e70b349dcdrow1_col3\" class=\"data row1 col3\" >0.92237</td>\n",
       "                        <td id=\"T_991a0502_8a1e_11ec_8848_94e70b349dcdrow1_col4\" class=\"data row1 col4\" >0.94876</td>\n",
       "                        <td id=\"T_991a0502_8a1e_11ec_8848_94e70b349dcdrow1_col5\" class=\"data row1 col5\" >0.92757</td>\n",
       "                        <td id=\"T_991a0502_8a1e_11ec_8848_94e70b349dcdrow1_col6\" class=\"data row1 col6\" >-0.040846</td>\n",
       "                        <td id=\"T_991a0502_8a1e_11ec_8848_94e70b349dcdrow1_col7\" class=\"data row1 col7\" >0.92193</td>\n",
       "            </tr>\n",
       "            <tr>\n",
       "                        <th id=\"T_991a0502_8a1e_11ec_8848_94e70b349dcdlevel0_row2\" class=\"row_heading level0 row2\" >passngrs</th>\n",
       "                        <td id=\"T_991a0502_8a1e_11ec_8848_94e70b349dcdrow2_col0\" class=\"data row2 col0\" >0.51554</td>\n",
       "                        <td id=\"T_991a0502_8a1e_11ec_8848_94e70b349dcdrow2_col1\" class=\"data row2 col1\" >0.94506</td>\n",
       "                        <td id=\"T_991a0502_8a1e_11ec_8848_94e70b349dcdrow2_col2\" class=\"data row2 col2\" >1.0</td>\n",
       "                        <td id=\"T_991a0502_8a1e_11ec_8848_94e70b349dcdrow2_col3\" class=\"data row2 col3\" >0.88353</td>\n",
       "                        <td id=\"T_991a0502_8a1e_11ec_8848_94e70b349dcdrow2_col4\" class=\"data row2 col4\" >0.97634</td>\n",
       "                        <td id=\"T_991a0502_8a1e_11ec_8848_94e70b349dcdrow2_col5\" class=\"data row2 col5\" >0.91523</td>\n",
       "                        <td id=\"T_991a0502_8a1e_11ec_8848_94e70b349dcdrow2_col6\" class=\"data row2 col6\" >-0.29487</td>\n",
       "                        <td id=\"T_991a0502_8a1e_11ec_8848_94e70b349dcdrow2_col7\" class=\"data row2 col7\" >0.91455</td>\n",
       "            </tr>\n",
       "            <tr>\n",
       "                        <th id=\"T_991a0502_8a1e_11ec_8848_94e70b349dcdlevel0_row3\" class=\"row_heading level0 row3\" >Length</th>\n",
       "                        <td id=\"T_991a0502_8a1e_11ec_8848_94e70b349dcdrow3_col0\" class=\"data row3 col0\" >0.53229</td>\n",
       "                        <td id=\"T_991a0502_8a1e_11ec_8848_94e70b349dcdrow3_col1\" class=\"data row3 col1\" >0.92237</td>\n",
       "                        <td id=\"T_991a0502_8a1e_11ec_8848_94e70b349dcdrow3_col2\" class=\"data row3 col2\" >0.88353</td>\n",
       "                        <td id=\"T_991a0502_8a1e_11ec_8848_94e70b349dcdrow3_col3\" class=\"data row3 col3\" >1.0</td>\n",
       "                        <td id=\"T_991a0502_8a1e_11ec_8848_94e70b349dcdrow3_col4\" class=\"data row3 col4\" >0.8898</td>\n",
       "                        <td id=\"T_991a0502_8a1e_11ec_8848_94e70b349dcdrow3_col5\" class=\"data row3 col5\" >0.89586</td>\n",
       "                        <td id=\"T_991a0502_8a1e_11ec_8848_94e70b349dcdrow3_col6\" class=\"data row3 col6\" >-0.090488</td>\n",
       "                        <td id=\"T_991a0502_8a1e_11ec_8848_94e70b349dcdrow3_col7\" class=\"data row3 col7\" >0.90105</td>\n",
       "            </tr>\n",
       "            <tr>\n",
       "                        <th id=\"T_991a0502_8a1e_11ec_8848_94e70b349dcdlevel0_row4\" class=\"row_heading level0 row4\" >Cabins</th>\n",
       "                        <td id=\"T_991a0502_8a1e_11ec_8848_94e70b349dcdrow4_col0\" class=\"data row4 col0\" >0.51002</td>\n",
       "                        <td id=\"T_991a0502_8a1e_11ec_8848_94e70b349dcdrow4_col1\" class=\"data row4 col1\" >0.94876</td>\n",
       "                        <td id=\"T_991a0502_8a1e_11ec_8848_94e70b349dcdrow4_col2\" class=\"data row4 col2\" >0.97634</td>\n",
       "                        <td id=\"T_991a0502_8a1e_11ec_8848_94e70b349dcdrow4_col3\" class=\"data row4 col3\" >0.8898</td>\n",
       "                        <td id=\"T_991a0502_8a1e_11ec_8848_94e70b349dcdrow4_col4\" class=\"data row4 col4\" >1.0</td>\n",
       "                        <td id=\"T_991a0502_8a1e_11ec_8848_94e70b349dcdrow4_col5\" class=\"data row4 col5\" >0.95082</td>\n",
       "                        <td id=\"T_991a0502_8a1e_11ec_8848_94e70b349dcdrow4_col6\" class=\"data row4 col6\" >-0.25318</td>\n",
       "                        <td id=\"T_991a0502_8a1e_11ec_8848_94e70b349dcdrow4_col7\" class=\"data row4 col7\" >0.93414</td>\n",
       "            </tr>\n",
       "            <tr>\n",
       "                        <th id=\"T_991a0502_8a1e_11ec_8848_94e70b349dcdlevel0_row5\" class=\"row_heading level0 row5\" >Crew</th>\n",
       "                        <td id=\"T_991a0502_8a1e_11ec_8848_94e70b349dcdrow5_col0\" class=\"data row5 col0\" >0.53066</td>\n",
       "                        <td id=\"T_991a0502_8a1e_11ec_8848_94e70b349dcdrow5_col1\" class=\"data row5 col1\" >0.92757</td>\n",
       "                        <td id=\"T_991a0502_8a1e_11ec_8848_94e70b349dcdrow5_col2\" class=\"data row5 col2\" >0.91523</td>\n",
       "                        <td id=\"T_991a0502_8a1e_11ec_8848_94e70b349dcdrow5_col3\" class=\"data row5 col3\" >0.89586</td>\n",
       "                        <td id=\"T_991a0502_8a1e_11ec_8848_94e70b349dcdrow5_col4\" class=\"data row5 col4\" >0.95082</td>\n",
       "                        <td id=\"T_991a0502_8a1e_11ec_8848_94e70b349dcdrow5_col5\" class=\"data row5 col5\" >1.0</td>\n",
       "                        <td id=\"T_991a0502_8a1e_11ec_8848_94e70b349dcdrow5_col6\" class=\"data row5 col6\" >-0.15551</td>\n",
       "                        <td id=\"T_991a0502_8a1e_11ec_8848_94e70b349dcdrow5_col7\" class=\"data row5 col7\" >0.90047</td>\n",
       "            </tr>\n",
       "            <tr>\n",
       "                        <th id=\"T_991a0502_8a1e_11ec_8848_94e70b349dcdlevel0_row6\" class=\"row_heading level0 row6\" >PassSpcR</th>\n",
       "                        <td id=\"T_991a0502_8a1e_11ec_8848_94e70b349dcdrow6_col0\" class=\"data row6 col0\" >0.27883</td>\n",
       "                        <td id=\"T_991a0502_8a1e_11ec_8848_94e70b349dcdrow6_col1\" class=\"data row6 col1\" >-0.040846</td>\n",
       "                        <td id=\"T_991a0502_8a1e_11ec_8848_94e70b349dcdrow6_col2\" class=\"data row6 col2\" >-0.29487</td>\n",
       "                        <td id=\"T_991a0502_8a1e_11ec_8848_94e70b349dcdrow6_col3\" class=\"data row6 col3\" >-0.090488</td>\n",
       "                        <td id=\"T_991a0502_8a1e_11ec_8848_94e70b349dcdrow6_col4\" class=\"data row6 col4\" >-0.25318</td>\n",
       "                        <td id=\"T_991a0502_8a1e_11ec_8848_94e70b349dcdrow6_col5\" class=\"data row6 col5\" >-0.15551</td>\n",
       "                        <td id=\"T_991a0502_8a1e_11ec_8848_94e70b349dcdrow6_col6\" class=\"data row6 col6\" >1.0</td>\n",
       "                        <td id=\"T_991a0502_8a1e_11ec_8848_94e70b349dcdrow6_col7\" class=\"data row6 col7\" >-0.1456</td>\n",
       "            </tr>\n",
       "            <tr>\n",
       "                        <th id=\"T_991a0502_8a1e_11ec_8848_94e70b349dcdlevel0_row7\" class=\"row_heading level0 row7\" >outcab</th>\n",
       "                        <td id=\"T_991a0502_8a1e_11ec_8848_94e70b349dcdrow7_col0\" class=\"data row7 col0\" >0.5472</td>\n",
       "                        <td id=\"T_991a0502_8a1e_11ec_8848_94e70b349dcdrow7_col1\" class=\"data row7 col1\" >0.92193</td>\n",
       "                        <td id=\"T_991a0502_8a1e_11ec_8848_94e70b349dcdrow7_col2\" class=\"data row7 col2\" >0.91455</td>\n",
       "                        <td id=\"T_991a0502_8a1e_11ec_8848_94e70b349dcdrow7_col3\" class=\"data row7 col3\" >0.90105</td>\n",
       "                        <td id=\"T_991a0502_8a1e_11ec_8848_94e70b349dcdrow7_col4\" class=\"data row7 col4\" >0.93414</td>\n",
       "                        <td id=\"T_991a0502_8a1e_11ec_8848_94e70b349dcdrow7_col5\" class=\"data row7 col5\" >0.90047</td>\n",
       "                        <td id=\"T_991a0502_8a1e_11ec_8848_94e70b349dcdrow7_col6\" class=\"data row7 col6\" >-0.1456</td>\n",
       "                        <td id=\"T_991a0502_8a1e_11ec_8848_94e70b349dcdrow7_col7\" class=\"data row7 col7\" >1.0</td>\n",
       "            </tr>\n",
       "    </tbody></table>"
      ],
      "text/plain": [
       "<pandas.io.formats.style.Styler at 0x25831199520>"
      ]
     },
     "execution_count": 105,
     "metadata": {},
     "output_type": "execute_result"
    }
   ],
   "source": [
    "cruise_ship1.corr(method='pearson').style.format(\"{:.5}\").background_gradient(cmap=plt.get_cmap('turbo'), axis=1)"
   ]
  },
  {
   "cell_type": "code",
   "execution_count": null,
   "metadata": {},
   "outputs": [],
   "source": [
    "### Here is a heatmap below that reflects the same data just different colors with the scale next to it"
   ]
  },
  {
   "cell_type": "code",
   "execution_count": 99,
   "metadata": {},
   "outputs": [
    {
     "data": {
      "text/plain": [
       "<AxesSubplot:>"
      ]
     },
     "execution_count": 99,
     "metadata": {},
     "output_type": "execute_result"
    },
    {
     "data": {
      "image/png": "[encoded data removed]",
      "text/plain": [
       "<Figure size 432x288 with 2 Axes>"
      ]
     },
     "metadata": {
      "needs_background": "light"
     },
     "output_type": "display_data"
    }
   ],
   "source": [
    "sns.heatmap(cruise_ship1.corr(), annot=True)"
   ]
  },
  {
   "cell_type": "code",
   "execution_count": 107,
   "metadata": {},
   "outputs": [],
   "source": [
    "### Notice the ones going down the middle, that is a perfect correlation of 1. You see which variables were highly and lowly \n",
    "### correlated at a glance which is why these visualizations are so awesome and totally helpful in explaining data!"
   ]
  },
  {
   "cell_type": "code",
   "execution_count": 108,
   "metadata": {},
   "outputs": [],
   "source": [
    "### From Mia :) Hope you enjoyed these examples!"
   ]
  }
 ],
 "metadata": {
  "kernelspec": {
   "display_name": "Python 3 (ipykernel)",
   "language": "python",
   "name": "python3"
  },
  "language_info": {
   "codemirror_mode": {
    "name": "ipython",
    "version": 3
   },
   "file_extension": ".py",
   "mimetype": "text/x-python",
   "name": "python",
   "nbconvert_exporter": "python",
   "pygments_lexer": "ipython3",
   "version": "3.9.10"
  }
 },
 "nbformat": 4,
 "nbformat_minor": 4
}
