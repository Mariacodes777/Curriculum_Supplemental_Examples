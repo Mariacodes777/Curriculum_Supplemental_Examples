{
 "cells": [
  {
   "cell_type": "markdown",
   "metadata": {},
   "source": [
    "### Modeling with Linear Regression - This notebook will be a walk-through of Lesson 1 page 6 & 7"
   ]
  },
  {
   "cell_type": "code",
   "execution_count": 1,
   "metadata": {},
   "outputs": [],
   "source": [
    "#Regression allows you to write an equation that models the relationship\n",
    "#between the independent variable, x, and the dependent variable, y. \n",
    "#You can think of x as a predictor, and y as the outcome you are trying \n",
    "#to predict. When the model is created, it allows you to predict the \n",
    "#value of y for any given value of x.\n",
    "#(Background from page 2 of LMS)"
   ]
  },
  {
   "cell_type": "code",
   "execution_count": 6,
   "metadata": {
    "scrolled": true
   },
   "outputs": [],
   "source": [
    "#### Install Packages\n",
    "install.packages(\"car\", quiet = TRUE)\n",
    "install.packages(\"caret\", quiet = TRUE)\n",
    "install.packages(\"gvlma\", quiet = TRUE)\n",
    "install.packages(\"predictmeans\", quiet = TRUE)\n",
    "install.packages(\"e1071\", quiet = TRUE)\n",
    "install.packages(\"lmtest\", quiet = TRUE)\n",
    "#I use quiet = TRUE to suppress the output\n",
    "defaultW <- getOption(\"warn\") \n",
    "options(warn = -1)"
   ]
  },
  {
   "cell_type": "code",
   "execution_count": 7,
   "metadata": {},
   "outputs": [],
   "source": [
    "#Load Packages\n",
    "suppressPackageStartupMessages(library(car))\n",
    "suppressPackageStartupMessages(library(caret))\n",
    "suppressPackageStartupMessages(library(gvlma))\n",
    "suppressPackageStartupMessages(library(predictmeans))\n",
    "suppressPackageStartupMessages(library(e1071))\n",
    "suppressPackageStartupMessages(library(lmtest))\n",
    "#The code below removes those long pink warning messages!\n",
    "defaultW <- getOption(\"warn\") \n",
    "options(warn = -1)"
   ]
  },
  {
   "cell_type": "code",
   "execution_count": 10,
   "metadata": {},
   "outputs": [],
   "source": [
    "#Reading in our data, this dataset is contained in a folder named Data, so this is the relative path to the data\n",
    "Manatee= read.csv('../Data/manatees.csv')"
   ]
  },
  {
   "cell_type": "code",
   "execution_count": 11,
   "metadata": {},
   "outputs": [
    {
     "data": {
      "text/html": [
       "<table class=\"dataframe\">\n",
       "<caption>A data.frame: 6 × 2</caption>\n",
       "<thead>\n",
       "\t<tr><th></th><th scope=col>PowerBoats</th><th scope=col>ManateeDeaths</th></tr>\n",
       "\t<tr><th></th><th scope=col>&lt;int&gt;</th><th scope=col>&lt;int&gt;</th></tr>\n",
       "</thead>\n",
       "<tbody>\n",
       "\t<tr><th scope=row>1</th><td>436</td><td>14</td></tr>\n",
       "\t<tr><th scope=row>2</th><td>449</td><td>21</td></tr>\n",
       "\t<tr><th scope=row>3</th><td>470</td><td>18</td></tr>\n",
       "\t<tr><th scope=row>4</th><td>487</td><td>19</td></tr>\n",
       "\t<tr><th scope=row>5</th><td>502</td><td>24</td></tr>\n",
       "\t<tr><th scope=row>6</th><td>501</td><td>18</td></tr>\n",
       "</tbody>\n",
       "</table>\n"
      ],
      "text/latex": [
       "A data.frame: 6 × 2\n",
       "\\begin{tabular}{r|ll}\n",
       "  & PowerBoats & ManateeDeaths\\\\\n",
       "  & <int> & <int>\\\\\n",
       "\\hline\n",
       "\t1 & 436 & 14\\\\\n",
       "\t2 & 449 & 21\\\\\n",
       "\t3 & 470 & 18\\\\\n",
       "\t4 & 487 & 19\\\\\n",
       "\t5 & 502 & 24\\\\\n",
       "\t6 & 501 & 18\\\\\n",
       "\\end{tabular}\n"
      ],
      "text/markdown": [
       "\n",
       "A data.frame: 6 × 2\n",
       "\n",
       "| <!--/--> | PowerBoats &lt;int&gt; | ManateeDeaths &lt;int&gt; |\n",
       "|---|---|---|\n",
       "| 1 | 436 | 14 |\n",
       "| 2 | 449 | 21 |\n",
       "| 3 | 470 | 18 |\n",
       "| 4 | 487 | 19 |\n",
       "| 5 | 502 | 24 |\n",
       "| 6 | 501 | 18 |\n",
       "\n"
      ],
      "text/plain": [
       "  PowerBoats ManateeDeaths\n",
       "1 436        14           \n",
       "2 449        21           \n",
       "3 470        18           \n",
       "4 487        19           \n",
       "5 502        24           \n",
       "6 501        18           "
      ]
     },
     "metadata": {},
     "output_type": "display_data"
    }
   ],
   "source": [
    "#The head() shows the first 6 rows of data\n",
    "head(Manatee)"
   ]
  },
  {
   "cell_type": "markdown",
   "metadata": {},
   "source": [
    "#### Question Setup:\n",
    "#### Do the number of powerboats registered in Florida impact the number of manatees killed there by powerboats each year?"
   ]
  },
  {
   "cell_type": "code",
   "execution_count": 6,
   "metadata": {},
   "outputs": [],
   "source": [
    "#Test Assumptions"
   ]
  },
  {
   "cell_type": "code",
   "execution_count": 7,
   "metadata": {},
   "outputs": [],
   "source": [
    "#Test for Linearity: Look at a scatterplot to see if there is a linear\n",
    "# relationship between the 2 variables"
   ]
  },
  {
   "cell_type": "code",
   "execution_count": 8,
   "metadata": {},
   "outputs": [
    {
     "data": {
      "image/png": "[encoded data removed]",
      "text/plain": [
       "Plot with title \"Manatee Deaths by Power Boats\""
      ]
     },
     "metadata": {
      "image/png": {
       "height": 420,
       "width": 420
      }
     },
     "output_type": "display_data"
    }
   ],
   "source": [
    "scatter.smooth(x=Manatee$PowerBoats, y=Manatee$ManateeDeaths, main=\"Manatee Deaths by Power Boats\")"
   ]
  },
  {
   "cell_type": "code",
   "execution_count": 9,
   "metadata": {},
   "outputs": [],
   "source": [
    "#This passes the test of linearity!"
   ]
  },
  {
   "cell_type": "code",
   "execution_count": 10,
   "metadata": {},
   "outputs": [],
   "source": [
    "#Testing for Homoscedasticity\n",
    "#Create the linear model(basic regression model)\n",
    "#DV goes before the ~ then IV, then specify your data\n",
    "#lm will stand for linear model\n",
    "lmMod <- lm(ManateeDeaths~PowerBoats, data=Manatee)"
   ]
  },
  {
   "cell_type": "code",
   "execution_count": 11,
   "metadata": {},
   "outputs": [
    {
     "data": {
      "image/png": "[encoded data removed]",
      "text/plain": [
       "Plot with title \"\""
      ]
     },
     "metadata": {
      "image/png": {
       "height": 420,
       "width": 420
      }
     },
     "output_type": "display_data"
    }
   ],
   "source": [
    "#creating graphs from the model above\n",
    "par(mfrow=c(2,2))\n",
    "plot(lmMod)"
   ]
  },
  {
   "cell_type": "code",
   "execution_count": 12,
   "metadata": {},
   "outputs": [],
   "source": [
    "#above shows results in a graph regarding the residuals\n",
    "#can also test for homoscedasticity with the Breush-Pagan\n",
    "#test or the Non-Constant Variance (NCV) test."
   ]
  },
  {
   "cell_type": "code",
   "execution_count": 13,
   "metadata": {},
   "outputs": [
    {
     "data": {
      "text/plain": [
       "\n",
       "\tstudentized Breusch-Pagan test\n",
       "\n",
       "data:  lmMod\n",
       "BP = 7.8867, df = 1, p-value = 0.00498\n"
      ]
     },
     "metadata": {},
     "output_type": "display_data"
    }
   ],
   "source": [
    "#Breush-Pagan test:\n",
    "lmtest::bptest(lmMod)"
   ]
  },
  {
   "cell_type": "code",
   "execution_count": 14,
   "metadata": {},
   "outputs": [],
   "source": [
    "#p value = .004. Since this is less than .05, it means it is \n",
    "#significant, and having a significant Breush-Pagan test means \n",
    "#that you unfortunately have heteroscedasticity and would not meet\n",
    "#the assumption of homoscedasticity"
   ]
  },
  {
   "cell_type": "code",
   "execution_count": 15,
   "metadata": {},
   "outputs": [
    {
     "data": {
      "text/plain": [
       "Non-constant Variance Score Test \n",
       "Variance formula: ~ fitted.values \n",
       "Chisquare = 9.037421, Df = 1, p = 0.0026451"
      ]
     },
     "metadata": {},
     "output_type": "display_data"
    }
   ],
   "source": [
    "#Non-Constant Variance(NCV) test:\n",
    "car::ncvTest(lmMod)"
   ]
  },
  {
   "cell_type": "code",
   "execution_count": 16,
   "metadata": {},
   "outputs": [],
   "source": [
    "#confirms another significant p value, the data is heteroscedastic\n",
    "#and does not meet the assumption of homoscedasticiy"
   ]
  },
  {
   "cell_type": "code",
   "execution_count": 17,
   "metadata": {},
   "outputs": [
    {
     "name": "stdout",
     "output_type": "stream",
     "text": [
      "Box-Cox Transformation\n",
      "\n",
      "35 data points used to estimate Lambda\n",
      "\n",
      "Input data summary:\n",
      "   Min. 1st Qu.  Median    Mean 3rd Qu.    Max. \n",
      "   14.0    30.5    50.0    52.8    75.5    97.0 \n",
      "\n",
      "Largest/Smallest: 6.93 \n",
      "Sample Skewness: 0.173 \n",
      "\n",
      "Estimated Lambda: 0.5 \n",
      "\n"
     ]
    }
   ],
   "source": [
    "#Since the data did not meet that assumption, we can try to transform \n",
    "#DV using a box-cox transformation from the caret library\n",
    "BCMod1 <- caret::BoxCoxTrans(Manatee$ManateeDeaths)\n",
    "print(BCMod1)"
   ]
  },
  {
   "cell_type": "code",
   "execution_count": 18,
   "metadata": {},
   "outputs": [],
   "source": [
    "#Now we need to to re-test your transformed variable, \n",
    "#you need to bind it to the current dataset, using the function cbind():\n",
    "#This creates a new variable, Manatee1, that is storing the info from\n",
    "#the cbind() function of the Manatee data creating a new model from the\n",
    "#predicted data from the transformed DV using the box-cox transformation\n",
    "Manatee1 <- cbind(Manatee, newLM=predict(BCMod1, Manatee$ManateeDeaths))"
   ]
  },
  {
   "cell_type": "code",
   "execution_count": 19,
   "metadata": {},
   "outputs": [
    {
     "data": {
      "text/plain": [
       "\n",
       "\tstudentized Breusch-Pagan test\n",
       "\n",
       "data:  lmMod_BCDV\n",
       "BP = 5.6078, df = 1, p-value = 0.01788\n"
      ]
     },
     "metadata": {},
     "output_type": "display_data"
    }
   ],
   "source": [
    "#Now we are going to create a new linear model using our tranformed DV\n",
    "#testing it again with either the Breush-Pagan test or the NCV test\n",
    "#Here it is testing the Breush-Pagan test\n",
    "lmMod_BCDV <- lm(newLM~PowerBoats, data=Manatee1)\n",
    "lmtest::bptest(lmMod_BCDV)"
   ]
  },
  {
   "cell_type": "code",
   "execution_count": 20,
   "metadata": {},
   "outputs": [],
   "source": [
    "#Here the results are still significant, as the p value is 0.01788 \n",
    "#For learning purposes we will continue"
   ]
  },
  {
   "cell_type": "code",
   "execution_count": 21,
   "metadata": {},
   "outputs": [
    {
     "data": {
      "image/png": "[encoded data removed]",
      "text/plain": [
       "Plot with title \"\""
      ]
     },
     "metadata": {
      "image/png": {
       "height": 420,
       "width": 420
      }
     },
     "output_type": "display_data"
    }
   ],
   "source": [
    "#Testing for Homogeneity of Variance\n",
    "#### reprinting the plots from above to examine:\n",
    "par(mfrow=c(2,2))\n",
    "plot(lmMod)"
   ]
  },
  {
   "cell_type": "code",
   "execution_count": 22,
   "metadata": {},
   "outputs": [],
   "source": [
    "#The above plots provide useful information about homogeneity of \n",
    "#variance, or how evenly your data is distributed. All you need to do \n",
    "#is to see whether your data forms a nice box, or whether it is cone \n",
    "#shaped at either end. In this case, the residual plots you generated \n",
    "#above (repeated here for your convenience) show no cone, so you have \n",
    "#passed the assumption of homogeneity of variance."
   ]
  },
  {
   "cell_type": "markdown",
   "metadata": {},
   "source": [
    "### Library gvlma"
   ]
  },
  {
   "cell_type": "code",
   "execution_count": 23,
   "metadata": {},
   "outputs": [
    {
     "data": {
      "text/plain": [
       "\n",
       "Call:\n",
       "lm(formula = newLM ~ PowerBoats, data = Manatee1)\n",
       "\n",
       "Coefficients:\n",
       "(Intercept)   PowerBoats  \n",
       "   -1.76474      0.01872  \n",
       "\n",
       "\n",
       "ASSESSMENT OF THE LINEAR MODEL ASSUMPTIONS\n",
       "USING THE GLOBAL TEST ON 4 DEGREES-OF-FREEDOM:\n",
       "Level of Significance =  0.05 \n",
       "\n",
       "Call:\n",
       " gvlma(x = lmMod_BCDV) \n",
       "\n",
       "                     Value p-value                   Decision\n",
       "Global Stat        12.1803 0.01606 Assumptions NOT satisfied!\n",
       "Skewness            1.1918 0.27496    Assumptions acceptable.\n",
       "Kurtosis            0.1569 0.69207    Assumptions acceptable.\n",
       "Link Function       6.9611 0.00833 Assumptions NOT satisfied!\n",
       "Heteroscedasticity  3.8705 0.04914 Assumptions NOT satisfied!"
      ]
     },
     "metadata": {},
     "output_type": "display_data"
    }
   ],
   "source": [
    "#Using the gvlma library can offer an overview of the assumptions\n",
    "#but it is not always accurate so you still need to run each \n",
    "#assumption but it can be helpful for general overviews of the data\n",
    "gvlma(lmMod_BCDV)"
   ]
  },
  {
   "cell_type": "code",
   "execution_count": 24,
   "metadata": {},
   "outputs": [],
   "source": [
    "#From the LMS definitions:\n",
    "#Global Stat: This indicates whether the relationship between your x \n",
    "#and y data is linear.If you recall from the scatterplot above, the \n",
    "#relationship is linear, so this is a great example of why you do not \n",
    "#want to fully trust GVLMA.\n",
    "\n",
    "#Skewness: This is a measure of whether your data is normally distributed \n",
    "#horizontally.\n",
    "\n",
    "#Kurtosis: This is an indicator of whether your data is normally \n",
    "#distributed vertically.\n",
    "\n",
    "#Link Function: This tests whether your variable is continuous. If \n",
    "#this has been violated, then data is categorical and analyses such \n",
    "#as logistic regression should be used instead.\n",
    "\n",
    "#The model has not satisfied this assumption according to GVLMA, \n",
    "#but guess what? Both the number of Power Boats and the number of \n",
    "#Manatee Deaths are continuous, not categorical. \n",
    "\n",
    "#Make sure to investigate GVLMA results carefully.\n",
    "\n",
    "#Heteroscedasticity: This is an indicator of whether your residuals \n",
    "#are constant. If you fail this, you fail the assumption of \n",
    "#homoscedasticity discussed above."
   ]
  },
  {
   "cell_type": "markdown",
   "metadata": {},
   "source": [
    "### Screening for Outliers: \n",
    "### Testing for Outliers in X Space"
   ]
  },
  {
   "cell_type": "code",
   "execution_count": 25,
   "metadata": {},
   "outputs": [
    {
     "data": {
      "image/png": "[encoded data removed]",
      "text/plain": [
       "Plot with title \"Cook's Distance\""
      ]
     },
     "metadata": {
      "image/png": {
       "height": 420,
       "width": 420
      }
     },
     "output_type": "display_data"
    }
   ],
   "source": [
    "#using the Cook's distance values with the predictmeans library\n",
    "#will generate a plot that shows outliers in x space\n",
    " CookD(lmMod, group=NULL, plot=TRUE, idn=3, newwd=FALSE)\n",
    "\n",
    "#I want to make an important note here, the code above has newwd=FALSE\n",
    "#and that is how to generate this plot using R in jupyter notebook/lab\n",
    "#in R studio, the code needs to reflect what is in the lesson newwd=TRUE"
   ]
  },
  {
   "cell_type": "code",
   "execution_count": 26,
   "metadata": {},
   "outputs": [],
   "source": [
    "#we can see that 24, 26, and 29 are outliers"
   ]
  },
  {
   "cell_type": "code",
   "execution_count": 27,
   "metadata": {},
   "outputs": [
    {
     "data": {
      "image/png": "[encoded data removed]",
      "text/plain": [
       "plot without title"
      ]
     },
     "metadata": {
      "image/png": {
       "height": 420,
       "width": 420
      }
     },
     "output_type": "display_data"
    }
   ],
   "source": [
    "#We will also test for leverage values using the hat function\n",
    "#anything that has a leverage value of .2-.5 is a moderate problem \n",
    "#anything over .5 is a big problem\n",
    "lev = hat(model.matrix(lmMod))\n",
    "plot(lev)"
   ]
  },
  {
   "cell_type": "code",
   "execution_count": 28,
   "metadata": {},
   "outputs": [
    {
     "data": {
      "text/html": [
       "<table class=\"dataframe\">\n",
       "<caption>A data.frame: 0 × 2</caption>\n",
       "<thead>\n",
       "\t<tr><th scope=col>PowerBoats</th><th scope=col>ManateeDeaths</th></tr>\n",
       "\t<tr><th scope=col>&lt;int&gt;</th><th scope=col>&lt;int&gt;</th></tr>\n",
       "</thead>\n",
       "<tbody>\n",
       "</tbody>\n",
       "</table>\n"
      ],
      "text/latex": [
       "A data.frame: 0 × 2\n",
       "\\begin{tabular}{ll}\n",
       " PowerBoats & ManateeDeaths\\\\\n",
       " <int> & <int>\\\\\n",
       "\\hline\n",
       "\\end{tabular}\n"
      ],
      "text/markdown": [
       "\n",
       "A data.frame: 0 × 2\n",
       "\n",
       "| PowerBoats &lt;int&gt; | ManateeDeaths &lt;int&gt; |\n",
       "|---|---|\n",
       "\n"
      ],
      "text/plain": [
       "     PowerBoats ManateeDeaths"
      ]
     },
     "metadata": {},
     "output_type": "display_data"
    }
   ],
   "source": [
    "#the above shows there are no leverage values over .2 but if you would\n",
    "#like to see this numerically to be on the safe side:\n",
    "Manatee[lev>.2,]"
   ]
  },
  {
   "cell_type": "code",
   "execution_count": 29,
   "metadata": {},
   "outputs": [],
   "source": [
    "#nothing is printed here indicating no leverage over .2"
   ]
  },
  {
   "cell_type": "markdown",
   "metadata": {},
   "source": [
    "### Testing for Outliers in y Space"
   ]
  },
  {
   "cell_type": "code",
   "execution_count": 30,
   "metadata": {},
   "outputs": [
    {
     "data": {
      "text/plain": [
       "No Studentized residuals with Bonferroni p < 0.05\n",
       "Largest |rstudent|:\n",
       "   rstudent unadjusted p-value Bonferroni p\n",
       "24 2.691645           0.011213      0.39245"
      ]
     },
     "metadata": {},
     "output_type": "display_data"
    }
   ],
   "source": [
    "#This is done using the studentized deleted residual\n",
    "#caluated using n-1 meaning there is one deleted residual\n",
    "#We will use the car library for the outlierTest function:\n",
    "car::outlierTest(lmMod)"
   ]
  },
  {
   "cell_type": "code",
   "execution_count": 31,
   "metadata": {},
   "outputs": [],
   "source": [
    "#The above code tests for the very furthest outlier. If the\n",
    "#Bonferroni p value is significant (i.e. less than .05), then it is \n",
    "#likely that you have at least one outlier. \n",
    "\n",
    "#Look at the rstudent result, this is the raw studentized deleted residual. If this \n",
    "#If the value is over 2.5 or 3ish, you have a problem with outliers in \n",
    "#the y space. Our value is 2.69, but the bonferroni p value is not \n",
    "#significant so we will leave it alone and gather there are no outliers\n",
    "#in the y space."
   ]
  },
  {
   "cell_type": "markdown",
   "metadata": {},
   "source": [
    "### Testing for Outliers in x and y Space"
   ]
  },
  {
   "cell_type": "code",
   "execution_count": 32,
   "metadata": {},
   "outputs": [
    {
     "name": "stdout",
     "output_type": "stream",
     "text": [
      "Potentially influential observations of\n",
      "\t lm(formula = ManateeDeaths ~ PowerBoats, data = Manatee) :\n",
      "\n",
      "   dfb.1_ dfb.PwrB dffit cov.r   cook.d hat  \n",
      "1   0.01  -0.01     0.01  1.19_*  0.00   0.10\n",
      "23 -0.07   0.18     0.46  0.78_*  0.09   0.03\n",
      "24 -0.20   0.32     0.57  0.74_*  0.14   0.04\n"
     ]
    }
   ],
   "source": [
    "#To test for influential values we will look at two metrics:\n",
    "#DFFITS & DFBETAS using the function influence.measures\n",
    "summary(influence.measures(lmMod))"
   ]
  },
  {
   "cell_type": "code",
   "execution_count": 33,
   "metadata": {},
   "outputs": [],
   "source": [
    "#the row numbers of any values that may be outliers are shown on the \n",
    "#far left. Here we see row 1, 23, & 24 \n",
    "#The column named dfb.1_ is for DFBETAS, and the one named \n",
    "#dffit is for DFFITS. If a DFFITS or DFBETAS value is greater 1, you \n",
    "#most likely have a problem with outliers that are influential.\n",
    "#There are no values greater than 1 for those 3 points so there are\n",
    "#no influential outliers in the data"
   ]
  },
  {
   "cell_type": "markdown",
   "metadata": {},
   "source": [
    "### Interpreting the Output"
   ]
  },
  {
   "cell_type": "code",
   "execution_count": 34,
   "metadata": {},
   "outputs": [
    {
     "data": {
      "text/plain": [
       "\n",
       "Call:\n",
       "lm(formula = newLM ~ PowerBoats, data = Manatee1)\n",
       "\n",
       "Residuals:\n",
       "     Min       1Q   Median       3Q      Max \n",
       "-2.11978 -0.95827 -0.05081  0.75875  2.74620 \n",
       "\n",
       "Coefficients:\n",
       "             Estimate Std. Error t value Pr(>|t|)    \n",
       "(Intercept) -1.764745   0.842078  -2.096   0.0439 *  \n",
       "PowerBoats   0.018718   0.001106  16.929   <2e-16 ***\n",
       "---\n",
       "Signif. codes:  0 '***' 0.001 '**' 0.01 '*' 0.05 '.' 0.1 ' ' 1\n",
       "\n",
       "Residual standard error: 1.226 on 33 degrees of freedom\n",
       "Multiple R-squared:  0.8967,\tAdjusted R-squared:  0.8936 \n",
       "F-statistic: 286.6 on 1 and 33 DF,  p-value: < 2.2e-16\n"
      ]
     },
     "metadata": {},
     "output_type": "display_data"
    }
   ],
   "source": [
    "#call the summary of the created model:\n",
    "summary(lmMod_BCDV)"
   ]
  },
  {
   "cell_type": "code",
   "execution_count": 35,
   "metadata": {},
   "outputs": [],
   "source": [
    "#Examine the F-statistic in the last line\n",
    "#This tells you the F Statistic for the overall model as well as the \n",
    "#p value for the overall model. The larger the F statistic, the more \n",
    "#likely it is to be significant, at 286.6, you would expect p to be \n",
    "#significant. As it is p = 2.2e-16 which means 16 decimal places to \n",
    "#the left which would be a very small value\n",
    "#Notice how the three *** at the end of the PowerBoats variable,\n",
    "#that is showing the result if greatly signficant, p < .001 \n",
    "\n",
    "#The results confirm to reject the null hypothesis, since the p value\n",
    "#is less than .05. There is sufficient evidence to suggest that there \n",
    "#is a linear relationship between the number of powerboats registered \n",
    "#in Florida and the number of manatees killed by powerboats. \n",
    "#This conclusion makes sense as there are more boats on the water, \n",
    "#it seems probable that this may be related to the number of manatees\n",
    "#killed.\n"
   ]
  },
  {
   "cell_type": "markdown",
   "metadata": {},
   "source": [
    "### Multiple R-squared"
   ]
  },
  {
   "cell_type": "code",
   "execution_count": 36,
   "metadata": {},
   "outputs": [],
   "source": [
    "#To determine how much of a predictor this is, look at the Multiple R-\n",
    "#squared value and an adjusted R-squared value.\n",
    "\n",
    "#Multiple R-squared is a measure of how well the regression line fits\n",
    "#the data.\n",
    "#the practical interpretation would be something like: \n",
    "#\"89% of the variation in the number of manatee deaths each year can be\n",
    "#explained by the number of power boats. The other 13% is due to error \n",
    "#or other variables not accounted for in this model.\""
   ]
  },
  {
   "cell_type": "markdown",
   "metadata": {},
   "source": [
    "### Adjusted R-squared"
   ]
  },
  {
   "cell_type": "code",
   "execution_count": 37,
   "metadata": {},
   "outputs": [],
   "source": [
    "#Measure of R squared that adjusts for the number of terms in the model.\n",
    "#For models with only one term (i.e. the simple linear regression we\n",
    "#just completed), there will not be much difference between the R \n",
    "#squared and the adjusted R square."
   ]
  },
  {
   "cell_type": "markdown",
   "metadata": {},
   "source": [
    "### Interpreting Non-Transformed Regression Output"
   ]
  },
  {
   "cell_type": "code",
   "execution_count": 38,
   "metadata": {},
   "outputs": [
    {
     "data": {
      "text/plain": [
       "\n",
       "Call:\n",
       "lm(formula = ManateeDeaths ~ PowerBoats, data = Manatee)\n",
       "\n",
       "Residuals:\n",
       "    Min      1Q  Median      3Q     Max \n",
       "-15.736  -6.642  -1.239   4.374  22.309 \n",
       "\n",
       "Coefficients:\n",
       "              Estimate Std. Error t value Pr(>|t|)    \n",
       "(Intercept) -42.525657   6.347072   -6.70 1.25e-07 ***\n",
       "PowerBoats    0.129133   0.008334   15.49  < 2e-16 ***\n",
       "---\n",
       "Signif. codes:  0 '***' 0.001 '**' 0.01 '*' 0.05 '.' 0.1 ' ' 1\n",
       "\n",
       "Residual standard error: 9.237 on 33 degrees of freedom\n",
       "Multiple R-squared:  0.8792,\tAdjusted R-squared:  0.8755 \n",
       "F-statistic: 240.1 on 1 and 33 DF,  p-value: < 2.2e-16\n"
      ]
     },
     "metadata": {},
     "output_type": "display_data"
    }
   ],
   "source": [
    "summary(lmMod)"
   ]
  },
  {
   "cell_type": "code",
   "execution_count": 39,
   "metadata": {},
   "outputs": [],
   "source": [
    "#The practical interpretation of the slope (b1) is this: For every \n",
    "#thousand more power boats that are registered in the state of Florida,\n",
    "#there is a predicted additional 0.129 manatee deaths due to collisions\n",
    "#between boats and manatees. Another way to look at it is by stating \n",
    "#that for every additional 1000 power boats registered, there can be \n",
    "#an expected increase of 1 manatee death. "
   ]
  },
  {
   "cell_type": "code",
   "execution_count": 12,
   "metadata": {},
   "outputs": [],
   "source": [
    "#Most of the explanation verbage from this notebook is from the LMS\n",
    "#hope you enjoyed following along in this notebook! <3 Mia"
   ]
  }
 ],
 "metadata": {
  "kernelspec": {
   "display_name": "R",
   "language": "R",
   "name": "ir"
  },
  "language_info": {
   "codemirror_mode": "r",
   "file_extension": ".r",
   "mimetype": "text/x-r-source",
   "name": "R",
   "pygments_lexer": "r",
   "version": "4.1.2"
  }
 },
 "nbformat": 4,
 "nbformat_minor": 4
}
