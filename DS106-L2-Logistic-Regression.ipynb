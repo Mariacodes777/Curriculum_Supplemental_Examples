{
 "cells": [
  {
   "cell_type": "markdown",
   "id": "627b178c",
   "metadata": {},
   "source": [
    "## This is a Detailed Example Very Similar to the Hands On Assignment for DS106ModelingL2 - Enjoy!"
   ]
  },
  {
   "cell_type": "markdown",
   "id": "d8b29af6",
   "metadata": {},
   "source": [
    "### Install Packages & Load Libraries"
   ]
  },
  {
   "cell_type": "code",
   "execution_count": 65,
   "id": "8f633364",
   "metadata": {},
   "outputs": [
    {
     "name": "stdout",
     "output_type": "stream",
     "text": [
      "\n",
      "The downloaded binary packages are in\n",
      "\t/var/folders/gf/j9_tr6ys3w9f12nqzsftsrth0000gn/T//Rtmp41BcFS/downloaded_packages\n"
     ]
    }
   ],
   "source": [
    "#If you have never used a package before you will need to install it first before running it as a library\n",
    "install.packages(\"popbio\")"
   ]
  },
  {
   "cell_type": "code",
   "execution_count": 56,
   "id": "1efce705",
   "metadata": {},
   "outputs": [],
   "source": [
    "suppressPackageStartupMessages(library(caret))\n",
    "suppressPackageStartupMessages(library(dplyr))\n",
    "suppressPackageStartupMessages(library(tidyr))\n",
    "suppressPackageStartupMessages(library(lmtest))\n",
    "suppressPackageStartupMessages(library(popbio))\n",
    "suppressPackageStartupMessages(library(e1071))\n",
    "#the above code suppressPackageStartupMessages(library(package_name_here)) is lovely and takes away those annoying\n",
    "#pink messages! Pink is a great color to wear, but annoying in code!!"
   ]
  },
  {
   "cell_type": "code",
   "execution_count": 59,
   "id": "c845e808",
   "metadata": {},
   "outputs": [],
   "source": [
    "# Importing data using this relative path meaning it will work on anyone's computer with the data in the Data folder\n",
    "minerals = read.csv('../Data/minerals.csv')"
   ]
  },
  {
   "cell_type": "code",
   "execution_count": 60,
   "id": "2600702a",
   "metadata": {},
   "outputs": [
    {
     "data": {
      "text/html": [
       "<table class=\"dataframe\">\n",
       "<caption>A data.frame: 6 × 2</caption>\n",
       "<thead>\n",
       "\t<tr><th></th><th scope=col>Antimony</th><th scope=col>Gold</th></tr>\n",
       "\t<tr><th></th><th scope=col>&lt;dbl&gt;</th><th scope=col>&lt;int&gt;</th></tr>\n",
       "</thead>\n",
       "<tbody>\n",
       "\t<tr><th scope=row>1</th><td>3.08</td><td>1</td></tr>\n",
       "\t<tr><th scope=row>2</th><td>6.15</td><td>1</td></tr>\n",
       "\t<tr><th scope=row>3</th><td>2.35</td><td>1</td></tr>\n",
       "\t<tr><th scope=row>4</th><td>0.30</td><td>0</td></tr>\n",
       "\t<tr><th scope=row>5</th><td>0.30</td><td>0</td></tr>\n",
       "\t<tr><th scope=row>6</th><td>9.62</td><td>1</td></tr>\n",
       "</tbody>\n",
       "</table>\n"
      ],
      "text/latex": [
       "A data.frame: 6 × 2\n",
       "\\begin{tabular}{r|ll}\n",
       "  & Antimony & Gold\\\\\n",
       "  & <dbl> & <int>\\\\\n",
       "\\hline\n",
       "\t1 & 3.08 & 1\\\\\n",
       "\t2 & 6.15 & 1\\\\\n",
       "\t3 & 2.35 & 1\\\\\n",
       "\t4 & 0.30 & 0\\\\\n",
       "\t5 & 0.30 & 0\\\\\n",
       "\t6 & 9.62 & 1\\\\\n",
       "\\end{tabular}\n"
      ],
      "text/markdown": [
       "\n",
       "A data.frame: 6 × 2\n",
       "\n",
       "| <!--/--> | Antimony &lt;dbl&gt; | Gold &lt;int&gt; |\n",
       "|---|---|---|\n",
       "| 1 | 3.08 | 1 |\n",
       "| 2 | 6.15 | 1 |\n",
       "| 3 | 2.35 | 1 |\n",
       "| 4 | 0.30 | 0 |\n",
       "| 5 | 0.30 | 0 |\n",
       "| 6 | 9.62 | 1 |\n",
       "\n"
      ],
      "text/plain": [
       "  Antimony Gold\n",
       "1 3.08     1   \n",
       "2 6.15     1   \n",
       "3 2.35     1   \n",
       "4 0.30     0   \n",
       "5 0.30     0   \n",
       "6 9.62     1   "
      ]
     },
     "metadata": {},
     "output_type": "display_data"
    }
   ],
   "source": [
    "#the head() code will allow you to see the first few rows of your data so you can see the spelling of the columns!\n",
    "head(minerals)"
   ]
  },
  {
   "cell_type": "code",
   "execution_count": 58,
   "id": "7d70b2a3",
   "metadata": {},
   "outputs": [],
   "source": [
    "### Below the dataset name and columns are being changed to prevent copy and pasting for the assignment :) \n",
    "### So keep in mind this is a made up example :)\n",
    "### For this example below imagine the Radon column is indicating the presence of radon and \n",
    "### the Toxicity_Levels are indicating the amount of toxicity as we know radon causes damage to a person's health!"
   ]
  },
  {
   "cell_type": "code",
   "execution_count": 5,
   "id": "a264c14c",
   "metadata": {},
   "outputs": [
    {
     "data": {
      "text/html": [
       "<table class=\"dataframe\">\n",
       "<caption>A data.frame: 6 × 2</caption>\n",
       "<thead>\n",
       "\t<tr><th></th><th scope=col>Toxicity_Levels</th><th scope=col>Radon</th></tr>\n",
       "\t<tr><th></th><th scope=col>&lt;dbl&gt;</th><th scope=col>&lt;int&gt;</th></tr>\n",
       "</thead>\n",
       "<tbody>\n",
       "\t<tr><th scope=row>1</th><td>3.08</td><td>1</td></tr>\n",
       "\t<tr><th scope=row>2</th><td>6.15</td><td>1</td></tr>\n",
       "\t<tr><th scope=row>3</th><td>2.35</td><td>1</td></tr>\n",
       "\t<tr><th scope=row>4</th><td>0.30</td><td>0</td></tr>\n",
       "\t<tr><th scope=row>5</th><td>0.30</td><td>0</td></tr>\n",
       "\t<tr><th scope=row>6</th><td>9.62</td><td>1</td></tr>\n",
       "</tbody>\n",
       "</table>\n"
      ],
      "text/latex": [
       "A data.frame: 6 × 2\n",
       "\\begin{tabular}{r|ll}\n",
       "  & Toxicity\\_Levels & Radon\\\\\n",
       "  & <dbl> & <int>\\\\\n",
       "\\hline\n",
       "\t1 & 3.08 & 1\\\\\n",
       "\t2 & 6.15 & 1\\\\\n",
       "\t3 & 2.35 & 1\\\\\n",
       "\t4 & 0.30 & 0\\\\\n",
       "\t5 & 0.30 & 0\\\\\n",
       "\t6 & 9.62 & 1\\\\\n",
       "\\end{tabular}\n"
      ],
      "text/markdown": [
       "\n",
       "A data.frame: 6 × 2\n",
       "\n",
       "| <!--/--> | Toxicity_Levels &lt;dbl&gt; | Radon &lt;int&gt; |\n",
       "|---|---|---|\n",
       "| 1 | 3.08 | 1 |\n",
       "| 2 | 6.15 | 1 |\n",
       "| 3 | 2.35 | 1 |\n",
       "| 4 | 0.30 | 0 |\n",
       "| 5 | 0.30 | 0 |\n",
       "| 6 | 9.62 | 1 |\n",
       "\n"
      ],
      "text/plain": [
       "  Toxicity_Levels Radon\n",
       "1 3.08            1    \n",
       "2 6.15            1    \n",
       "3 2.35            1    \n",
       "4 0.30            0    \n",
       "5 0.30            0    \n",
       "6 9.62            1    "
      ]
     },
     "metadata": {},
     "output_type": "display_data"
    }
   ],
   "source": [
    "colnames(minerals)[1] <- \"Toxicity_Levels\"\n",
    "colnames(minerals)[2] <- \"Radon\"\n",
    "Metals = minerals\n",
    "head(Metals)"
   ]
  },
  {
   "cell_type": "code",
   "execution_count": 6,
   "id": "0b0699e1",
   "metadata": {},
   "outputs": [
    {
     "data": {
      "text/plain": [
       "\n",
       " 0.1  0.2 0.22  0.3 0.31 0.32 0.39  0.4 0.41 0.42 0.43  0.5 0.51 0.52 0.53 0.56 \n",
       "   4    4    3    6    1    1    1    2    2    1    1    1    1    1    1    1 \n",
       " 0.6  0.7  0.8 0.91 1.11  1.2 1.21 1.22 1.43 1.82 1.92 2.14  2.3 2.35 2.47 2.54 \n",
       "   1    1    1    1    3    1    1    1    1    1    1    1    1    1    1    1 \n",
       "3.08 3.19  3.5 3.71 4.12 4.22 4.32 4.99  5.6 6.15 6.32 8.32 8.45 9.62 18.2 \n",
       "   1    1    1    1    1    1    1    1    1    1    1    1    1    1    1 "
      ]
     },
     "metadata": {},
     "output_type": "display_data"
    }
   ],
   "source": [
    "# I wanted to look at the values in the data for Toxicity_Levels\n",
    "table(Metals$Toxicity_Levels)"
   ]
  },
  {
   "cell_type": "code",
   "execution_count": 61,
   "id": "933d1709",
   "metadata": {},
   "outputs": [],
   "source": [
    "### Recoding our DV since it must be binary\n",
    "Metals$Toxicity_LevelsR <- NA\n",
    "Metals$Toxicity_LevelsR[Metals$Toxicity_Levels<1] <- 0\n",
    "Metals$Toxicity_LevelsR[Metals$Toxicity_Levels>=1] <- 1\n",
    "#I chose to say anything under 1 = 0 and every value over 1 = 1 for Toxicity_Levels"
   ]
  },
  {
   "cell_type": "code",
   "execution_count": 8,
   "id": "7bbf429d",
   "metadata": {},
   "outputs": [
    {
     "data": {
      "text/html": [
       "<table class=\"dataframe\">\n",
       "<caption>A data.frame: 6 × 3</caption>\n",
       "<thead>\n",
       "\t<tr><th></th><th scope=col>Toxicity_Levels</th><th scope=col>Radon</th><th scope=col>Toxicity_LevelsR</th></tr>\n",
       "\t<tr><th></th><th scope=col>&lt;dbl&gt;</th><th scope=col>&lt;int&gt;</th><th scope=col>&lt;dbl&gt;</th></tr>\n",
       "</thead>\n",
       "<tbody>\n",
       "\t<tr><th scope=row>1</th><td>3.08</td><td>1</td><td>1</td></tr>\n",
       "\t<tr><th scope=row>2</th><td>6.15</td><td>1</td><td>1</td></tr>\n",
       "\t<tr><th scope=row>3</th><td>2.35</td><td>1</td><td>1</td></tr>\n",
       "\t<tr><th scope=row>4</th><td>0.30</td><td>0</td><td>0</td></tr>\n",
       "\t<tr><th scope=row>5</th><td>0.30</td><td>0</td><td>0</td></tr>\n",
       "\t<tr><th scope=row>6</th><td>9.62</td><td>1</td><td>1</td></tr>\n",
       "</tbody>\n",
       "</table>\n"
      ],
      "text/latex": [
       "A data.frame: 6 × 3\n",
       "\\begin{tabular}{r|lll}\n",
       "  & Toxicity\\_Levels & Radon & Toxicity\\_LevelsR\\\\\n",
       "  & <dbl> & <int> & <dbl>\\\\\n",
       "\\hline\n",
       "\t1 & 3.08 & 1 & 1\\\\\n",
       "\t2 & 6.15 & 1 & 1\\\\\n",
       "\t3 & 2.35 & 1 & 1\\\\\n",
       "\t4 & 0.30 & 0 & 0\\\\\n",
       "\t5 & 0.30 & 0 & 0\\\\\n",
       "\t6 & 9.62 & 1 & 1\\\\\n",
       "\\end{tabular}\n"
      ],
      "text/markdown": [
       "\n",
       "A data.frame: 6 × 3\n",
       "\n",
       "| <!--/--> | Toxicity_Levels &lt;dbl&gt; | Radon &lt;int&gt; | Toxicity_LevelsR &lt;dbl&gt; |\n",
       "|---|---|---|---|\n",
       "| 1 | 3.08 | 1 | 1 |\n",
       "| 2 | 6.15 | 1 | 1 |\n",
       "| 3 | 2.35 | 1 | 1 |\n",
       "| 4 | 0.30 | 0 | 0 |\n",
       "| 5 | 0.30 | 0 | 0 |\n",
       "| 6 | 9.62 | 1 | 1 |\n",
       "\n"
      ],
      "text/plain": [
       "  Toxicity_Levels Radon Toxicity_LevelsR\n",
       "1 3.08            1     1               \n",
       "2 6.15            1     1               \n",
       "3 2.35            1     1               \n",
       "4 0.30            0     0               \n",
       "5 0.30            0     0               \n",
       "6 9.62            1     1               "
      ]
     },
     "metadata": {},
     "output_type": "display_data"
    }
   ],
   "source": [
    "### After the recode above let's look at the data to see our new column of Toxicity_LevelsR with the values that\n",
    "### are less than 1 = 0 and the values that are greater than 1 = 1\n",
    "head(Metals)"
   ]
  },
  {
   "cell_type": "code",
   "execution_count": 9,
   "id": "78b395a0",
   "metadata": {},
   "outputs": [],
   "source": [
    "### You see our recode was successful!"
   ]
  },
  {
   "cell_type": "markdown",
   "id": "4c5046cc",
   "metadata": {},
   "source": [
    "### Creating base model"
   ]
  },
  {
   "cell_type": "code",
   "execution_count": 12,
   "id": "b3013c6d",
   "metadata": {},
   "outputs": [
    {
     "data": {
      "text/plain": [
       "\n",
       "Call:\n",
       "glm(formula = Toxicity_LevelsR ~ Radon, family = binomial, data = Metals)\n",
       "\n",
       "Deviance Residuals: \n",
       "    Min       1Q   Median       3Q      Max  \n",
       "-2.2974  -0.4172  -0.4172   0.3850   2.2293  \n",
       "\n",
       "Coefficients:\n",
       "            Estimate Std. Error z value Pr(>|z|)    \n",
       "(Intercept)  -2.3979     0.6030  -3.976 6.99e-05 ***\n",
       "Radon         4.9628     0.9498   5.225 1.74e-07 ***\n",
       "---\n",
       "Signif. codes:  0 ‘***’ 0.001 ‘**’ 0.01 ‘*’ 0.05 ‘.’ 0.1 ‘ ’ 1\n",
       "\n",
       "(Dispersion parameter for binomial family taken to be 1)\n",
       "\n",
       "    Null deviance: 88.160  on 63  degrees of freedom\n",
       "Residual deviance: 35.062  on 62  degrees of freedom\n",
       "AIC: 39.062\n",
       "\n",
       "Number of Fisher Scoring iterations: 5\n"
      ]
     },
     "metadata": {},
     "output_type": "display_data"
    }
   ],
   "source": [
    "#here we are calling our model: Model\n",
    "#glm is the function\n",
    "#Toxicity_LevelsR is our DV recoded column from above\n",
    "#Radon is our IV\n",
    "#Metals is our dataset\n",
    "#family= \"binomial\" because we are doing Binomial Logistic Regression\n",
    "Model = glm(Toxicity_LevelsR ~ Radon, data = Metals, family = binomial)\n",
    "summary(Model)"
   ]
  },
  {
   "cell_type": "markdown",
   "id": "d30256af",
   "metadata": {},
   "source": [
    "### Data Wrangling, the Radon column is already coded to 1 and 0 so no need to recode anything for that\n",
    "### We will move on to predicting the Toxicity_Levels:\n",
    "### The following code will convert your probabilities to a positive and negative prediction by having anything \n",
    "### above .5 (half) be positive, and anything below .5 be negative (page4 of lesson 2)."
   ]
  },
  {
   "cell_type": "code",
   "execution_count": 16,
   "id": "1b1aaa4f",
   "metadata": {},
   "outputs": [],
   "source": [
    "probabilities <- predict(Model, type = \"response\")\n",
    "Metals$ToxicityPredicted <- ifelse(probabilities > .5, \"pos\", \"neg\")\n",
    "#You see in this code using the predict() function, the name of the model is placed inside the (), in our case it is Model"
   ]
  },
  {
   "cell_type": "code",
   "execution_count": 17,
   "id": "2a572b38",
   "metadata": {},
   "outputs": [],
   "source": [
    "#Let's look at it:"
   ]
  },
  {
   "cell_type": "code",
   "execution_count": 18,
   "id": "6cbc111f",
   "metadata": {},
   "outputs": [
    {
     "data": {
      "text/html": [
       "<table class=\"dataframe\">\n",
       "<caption>A data.frame: 6 × 4</caption>\n",
       "<thead>\n",
       "\t<tr><th></th><th scope=col>Toxicity_Levels</th><th scope=col>Radon</th><th scope=col>Toxicity_LevelsR</th><th scope=col>ToxicityPredicted</th></tr>\n",
       "\t<tr><th></th><th scope=col>&lt;dbl&gt;</th><th scope=col>&lt;int&gt;</th><th scope=col>&lt;dbl&gt;</th><th scope=col>&lt;chr&gt;</th></tr>\n",
       "</thead>\n",
       "<tbody>\n",
       "\t<tr><th scope=row>1</th><td>3.08</td><td>1</td><td>1</td><td>pos</td></tr>\n",
       "\t<tr><th scope=row>2</th><td>6.15</td><td>1</td><td>1</td><td>pos</td></tr>\n",
       "\t<tr><th scope=row>3</th><td>2.35</td><td>1</td><td>1</td><td>pos</td></tr>\n",
       "\t<tr><th scope=row>4</th><td>0.30</td><td>0</td><td>0</td><td>neg</td></tr>\n",
       "\t<tr><th scope=row>5</th><td>0.30</td><td>0</td><td>0</td><td>neg</td></tr>\n",
       "\t<tr><th scope=row>6</th><td>9.62</td><td>1</td><td>1</td><td>pos</td></tr>\n",
       "</tbody>\n",
       "</table>\n"
      ],
      "text/latex": [
       "A data.frame: 6 × 4\n",
       "\\begin{tabular}{r|llll}\n",
       "  & Toxicity\\_Levels & Radon & Toxicity\\_LevelsR & ToxicityPredicted\\\\\n",
       "  & <dbl> & <int> & <dbl> & <chr>\\\\\n",
       "\\hline\n",
       "\t1 & 3.08 & 1 & 1 & pos\\\\\n",
       "\t2 & 6.15 & 1 & 1 & pos\\\\\n",
       "\t3 & 2.35 & 1 & 1 & pos\\\\\n",
       "\t4 & 0.30 & 0 & 0 & neg\\\\\n",
       "\t5 & 0.30 & 0 & 0 & neg\\\\\n",
       "\t6 & 9.62 & 1 & 1 & pos\\\\\n",
       "\\end{tabular}\n"
      ],
      "text/markdown": [
       "\n",
       "A data.frame: 6 × 4\n",
       "\n",
       "| <!--/--> | Toxicity_Levels &lt;dbl&gt; | Radon &lt;int&gt; | Toxicity_LevelsR &lt;dbl&gt; | ToxicityPredicted &lt;chr&gt; |\n",
       "|---|---|---|---|---|\n",
       "| 1 | 3.08 | 1 | 1 | pos |\n",
       "| 2 | 6.15 | 1 | 1 | pos |\n",
       "| 3 | 2.35 | 1 | 1 | pos |\n",
       "| 4 | 0.30 | 0 | 0 | neg |\n",
       "| 5 | 0.30 | 0 | 0 | neg |\n",
       "| 6 | 9.62 | 1 | 1 | pos |\n",
       "\n"
      ],
      "text/plain": [
       "  Toxicity_Levels Radon Toxicity_LevelsR ToxicityPredicted\n",
       "1 3.08            1     1                pos              \n",
       "2 6.15            1     1                pos              \n",
       "3 2.35            1     1                pos              \n",
       "4 0.30            0     0                neg              \n",
       "5 0.30            0     0                neg              \n",
       "6 9.62            1     1                pos              "
      ]
     },
     "metadata": {},
     "output_type": "display_data"
    }
   ],
   "source": [
    "head(Metals)"
   ]
  },
  {
   "cell_type": "code",
   "execution_count": 62,
   "id": "3886483a",
   "metadata": {},
   "outputs": [],
   "source": [
    "#So you can see that the codes we just ran above created a new column ToxicityPredicted and placed inside 'pos' \n",
    "#if the value was .5 or more and 'neg' if the value was less than .5"
   ]
  },
  {
   "cell_type": "code",
   "execution_count": 21,
   "id": "4c8eae1b",
   "metadata": {},
   "outputs": [],
   "source": [
    "#We cannot use strings in the ToxicityPredicted column so we will recode it now for each 'pos' to = 1 and for each\n",
    "#'neg' to = 0\n",
    "Metals$ToxicityPredictedR <- NA\n",
    "Metals$ToxicityPredictedR[Metals$ToxicityPredicted=='pos'] <- 1\n",
    "Metals$ToxicityPredictedR[Metals$ToxicityPredicted=='neg'] <- 0"
   ]
  },
  {
   "cell_type": "code",
   "execution_count": 22,
   "id": "21632e96",
   "metadata": {},
   "outputs": [],
   "source": [
    "# Now we will use the as.factor() function to convert our variables to factors so the next line of code will run\n",
    "Metals$ToxicityPredictedR <- as.factor(Metals$ToxicityPredictedR)\n",
    "Metals$Radon <- as.factor(Metals$Radon)"
   ]
  },
  {
   "cell_type": "code",
   "execution_count": 24,
   "id": "6a4e3ce7",
   "metadata": {},
   "outputs": [
    {
     "name": "stdout",
     "output_type": "stream",
     "text": [
      "'data.frame':\t64 obs. of  5 variables:\n",
      " $ Toxicity_Levels   : num  3.08 6.15 2.35 0.3 0.3 9.62 0.51 3.71 4.32 0.8 ...\n",
      " $ Radon             : Factor w/ 2 levels \"0\",\"1\": 2 2 2 1 1 2 1 2 1 1 ...\n",
      " $ Toxicity_LevelsR  : num  1 1 1 0 0 1 0 1 1 0 ...\n",
      " $ ToxicityPredicted : chr  \"pos\" \"pos\" \"pos\" \"neg\" ...\n",
      " $ ToxicityPredictedR: Factor w/ 2 levels \"0\",\"1\": 2 2 2 1 1 2 1 2 1 1 ...\n"
     ]
    }
   ],
   "source": [
    "#This code below will let you see the data types and we can see that the above code worked as ToxicityPredictedR\n",
    "#and Radon are indicated as 'Factor'\n",
    "str(Metals)"
   ]
  },
  {
   "cell_type": "markdown",
   "id": "03504b8f",
   "metadata": {},
   "source": [
    "### Creating a Confusion Matrix"
   ]
  },
  {
   "cell_type": "code",
   "execution_count": 25,
   "id": "50ba75b6",
   "metadata": {},
   "outputs": [
    {
     "data": {
      "text/plain": [
       "Confusion Matrix and Statistics\n",
       "\n",
       "          Reference\n",
       "Prediction  0  1\n",
       "         0 36  0\n",
       "         1  0 28\n",
       "                                    \n",
       "               Accuracy : 1         \n",
       "                 95% CI : (0.944, 1)\n",
       "    No Information Rate : 0.5625    \n",
       "    P-Value [Acc > NIR] : < 2.2e-16 \n",
       "                                    \n",
       "                  Kappa : 1         \n",
       "                                    \n",
       " Mcnemar's Test P-Value : NA        \n",
       "                                    \n",
       "            Sensitivity : 1.0000    \n",
       "            Specificity : 1.0000    \n",
       "         Pos Pred Value : 1.0000    \n",
       "         Neg Pred Value : 1.0000    \n",
       "             Prevalence : 0.5625    \n",
       "         Detection Rate : 0.5625    \n",
       "   Detection Prevalence : 0.5625    \n",
       "      Balanced Accuracy : 1.0000    \n",
       "                                    \n",
       "       'Positive' Class : 0         \n",
       "                                    "
      ]
     },
     "metadata": {},
     "output_type": "display_data"
    }
   ],
   "source": [
    "conf_mat <- caret::confusionMatrix(Metals$ToxicityPredictedR, Metals$Radon)\n",
    "conf_mat"
   ]
  },
  {
   "cell_type": "markdown",
   "id": "9a732312",
   "metadata": {},
   "source": [
    "### Explaining the Results"
   ]
  },
  {
   "cell_type": "markdown",
   "id": "6fa6e8a3",
   "metadata": {},
   "source": [
    "Top left corner (Reference: 0, Prediction: 0): These are the cases that failed the condition and were predicted to fail the condition. \n",
    "This is the number you accurately predicted as \"did not happen.\"\n",
    "\n",
    "Top right corner (Reference: 1, Prediction: 0): These are the cases that were predicted to fail the condition, but did not actually fail. \n",
    "\n",
    "Bottom left corner (Reference: 0, Prediction: 1): These are the cases where a success was predicted, but a failure actually happened.\n",
    "\n",
    "Bottom right corner (Reference: 1, Prediction: 1): These are the cases were a success was predicted and a success actually happened.\n",
    "This is the number you accurately predicted as \"did happen.\"\n",
    "\n",
    "If any one of these four cells in the chart is below 5, then you do not meet the minimum sample size for binary logistic regression. In our current example we see two 0's so we would not have passed the assumption but we will be continuing for learning purposes as this is a made up example :)\n",
    "\n",
    "Please refer to Lesson 2 page 4 for more details on this!\n",
    "\n"
   ]
  },
  {
   "cell_type": "markdown",
   "id": "308cf057",
   "metadata": {},
   "source": [
    "In our example the accuracy is 1 meaning our model is accurate 100% of the time. We know that is because this is a made up example."
   ]
  },
  {
   "cell_type": "markdown",
   "id": "3b5ac90c",
   "metadata": {},
   "source": [
    "### Logit Linearity"
   ]
  },
  {
   "cell_type": "markdown",
   "id": "b7e064e7",
   "metadata": {},
   "source": [
    "Now we have the model and predictions, we can calculate the logit and then graph it against the predicted values.\n",
    "\n",
    "We want to assess the linearity of the logit with numeric variables, so using the library dplyr, and the select_if() function, we will select only numeric columns from the full dataset by specifying as the argument is.numeric."
   ]
  },
  {
   "cell_type": "code",
   "execution_count": 63,
   "id": "96b535c2",
   "metadata": {},
   "outputs": [],
   "source": [
    "# We are changing our variables to numeric so that the code below will run properly:) as it only selects the data\n",
    "# that is recognized as numeric\n",
    "Metals$ToxicityPredictedR <- as.numeric(Metals$ToxicityPredictedR)\n",
    "Metals$Radon <- as.numeric(Metals$Radon)"
   ]
  },
  {
   "cell_type": "code",
   "execution_count": 33,
   "id": "35610ace",
   "metadata": {},
   "outputs": [],
   "source": [
    "Metals1 <- Metals %>% \n",
    "dplyr::select_if(is.numeric)"
   ]
  },
  {
   "cell_type": "markdown",
   "id": "8d6e9623",
   "metadata": {},
   "source": [
    "We will rename the column names to be fed into predictors using the colnames() function:"
   ]
  },
  {
   "cell_type": "code",
   "execution_count": 34,
   "id": "3dd4893d",
   "metadata": {},
   "outputs": [],
   "source": [
    "predictors <- colnames(Metals1)"
   ]
  },
  {
   "cell_type": "markdown",
   "id": "9f54fbbf",
   "metadata": {},
   "source": [
    "Lastly, create the logit, using tidyr's mutate() and gather() functions. The logit is calculated as the log of the probabilities divided by one minus the probabilities."
   ]
  },
  {
   "cell_type": "code",
   "execution_count": 35,
   "id": "9e235e67",
   "metadata": {},
   "outputs": [],
   "source": [
    "Metals2 <- Metals1 %>%\n",
    "mutate(logit=log(probabilities/(1-probabilities))) %>%\n",
    "gather(key= \"predictors\", value=\"predictor.value\", -logit)"
   ]
  },
  {
   "cell_type": "code",
   "execution_count": 36,
   "id": "79534861",
   "metadata": {},
   "outputs": [],
   "source": [
    "# As you can see above we are always changing our data name when we make changes to the data, Metals1, Metals2, etc.\n",
    "# This is because if we are renaming our data when we make changes to it, if we make a mistake we can always go back\n",
    "# to the data before it, that was intact before our changes. If we make changes and keep it the same name and make an\n",
    "# error, sometimes that would mean starting over again! Nothing wrong with making errors! We learn from our mistakes\n",
    "# But great to make life easy on ourselves sometimes! :)"
   ]
  },
  {
   "cell_type": "markdown",
   "id": "a7d96371",
   "metadata": {},
   "source": [
    "Now we will plot using ggplot!"
   ]
  },
  {
   "cell_type": "code",
   "execution_count": 37,
   "id": "98b9136b",
   "metadata": {},
   "outputs": [
    {
     "name": "stderr",
     "output_type": "stream",
     "text": [
      "`geom_smooth()` using formula 'y ~ x'\n",
      "\n"
     ]
    },
    {
     "data": {
      "image/png": "[encoded data removed]",
      "text/plain": [
       "plot without title"
      ]
     },
     "metadata": {
      "image/png": {
       "height": 420,
       "width": 420
      }
     },
     "output_type": "display_data"
    }
   ],
   "source": [
    "ggplot(Metals2, aes(logit, predictor.value))+\n",
    "geom_point(size=.5, alpha=.5)+\n",
    "geom_smooth(method= \"loess\")+\n",
    "theme_bw()+\n",
    "facet_wrap(~predictors, scales=\"free_y\")"
   ]
  },
  {
   "cell_type": "markdown",
   "id": "87aa106d",
   "metadata": {},
   "source": [
    "### Multicollinearity"
   ]
  },
  {
   "cell_type": "markdown",
   "id": "e888ff18",
   "metadata": {},
   "source": [
    "The IV's should not be related to each other. In this case, there is only one Independent Variable, Radon, so we can skip this step."
   ]
  },
  {
   "cell_type": "markdown",
   "id": "9a61731d",
   "metadata": {},
   "source": [
    "### Independent Errors\n",
    "We can test for independent error by graphing the residual over the index."
   ]
  },
  {
   "cell_type": "markdown",
   "id": "a859505f",
   "metadata": {},
   "source": [
    "Graphing the Errors:"
   ]
  },
  {
   "cell_type": "code",
   "execution_count": 40,
   "id": "a0e07aad",
   "metadata": {},
   "outputs": [
    {
     "data": {
      "image/png": "[encoded data removed]",
      "text/plain": [
       "plot without title"
      ]
     },
     "metadata": {
      "image/png": {
       "height": 420,
       "width": 420
      }
     },
     "output_type": "display_data"
    }
   ],
   "source": [
    "plot(Model$residuals)"
   ]
  },
  {
   "cell_type": "markdown",
   "id": "5208311e",
   "metadata": {},
   "source": [
    "We are looking for a pretty even distribution of points all the way across the x axis. "
   ]
  },
  {
   "cell_type": "markdown",
   "id": "b19d3367",
   "metadata": {},
   "source": [
    "We can also use the Durbin-Watson test to see whether we have independence of errors."
   ]
  },
  {
   "cell_type": "markdown",
   "id": "a946daec",
   "metadata": {},
   "source": [
    "### Durbin-Watson Test"
   ]
  },
  {
   "cell_type": "code",
   "execution_count": 43,
   "id": "37b45a13",
   "metadata": {},
   "outputs": [
    {
     "data": {
      "text/plain": [
       "\n",
       "\tDurbin-Watson test\n",
       "\n",
       "data:  Model\n",
       "DW = 1.9542, p-value = 0.8259\n",
       "alternative hypothesis: true autocorrelation is not 0\n"
      ]
     },
     "metadata": {},
     "output_type": "display_data"
    }
   ],
   "source": [
    "dwtest(Model, alternative=\"two.sided\")"
   ]
  },
  {
   "cell_type": "markdown",
   "id": "f7868d85",
   "metadata": {},
   "source": [
    "Using the alternative=\"two.sided\" argument means that we are testing for both positive and negative autocorrelation of errors."
   ]
  },
  {
   "cell_type": "markdown",
   "id": "a3647c06",
   "metadata": {},
   "source": [
    "Looking at the output we see the p value is 0.82 which is greater than 0.05 so this is not a significant result:) Remember this is a made up example!"
   ]
  },
  {
   "cell_type": "code",
   "execution_count": 74,
   "id": "4d004f05",
   "metadata": {},
   "outputs": [],
   "source": [
    "# A very wise man showed me this trick below! If you are learning a code and do not understand something, you can enter\n",
    "# ? with the code and shift enter. So below the dwtest() function if I enter the ?dwtest and shift enter, a window\n",
    "# opens with detailed info regarding the Durbin-Watson test! Super helpful!\n",
    "?dwtest"
   ]
  },
  {
   "cell_type": "markdown",
   "id": "9e03074b",
   "metadata": {},
   "source": [
    "### Screening for Outliers\n",
    "To screen for outliers, we will use the influence.measures function used previously:"
   ]
  },
  {
   "cell_type": "code",
   "execution_count": 44,
   "id": "c9efb57c",
   "metadata": {},
   "outputs": [
    {
     "name": "stdout",
     "output_type": "stream",
     "text": [
      "Potentially influential observations of\n",
      "\t glm(formula = Toxicity_LevelsR ~ Radon, family = binomial, data = Metals) :\n",
      "\n",
      "   dfb.1_ dfb.Radn dffit   cov.r   cook.d hat  \n",
      "9   0.55  -0.35     0.55_*  0.78_*  0.16   0.03\n",
      "25  0.55  -0.35     0.55_*  0.78_*  0.16   0.03\n",
      "34  0.00  -0.50    -0.65_*  0.76_*  0.25   0.04\n",
      "47  0.55  -0.35     0.55_*  0.78_*  0.16   0.03\n",
      "52  0.00  -0.50    -0.65_*  0.76_*  0.25   0.04\n"
     ]
    }
   ],
   "source": [
    "infl <- influence.measures(Model)\n",
    "summary(infl)"
   ]
  },
  {
   "cell_type": "markdown",
   "id": "28ae7733",
   "metadata": {},
   "source": [
    " If dfb.1_ or dffit values are greater than 1, or if hat is greater than .3 or so, there is probably an outlier than should be examined and possibly removed. Looks like this example is ok not seeing that here."
   ]
  },
  {
   "cell_type": "code",
   "execution_count": 45,
   "id": "4f0aeddd",
   "metadata": {},
   "outputs": [],
   "source": [
    "### I hope this example was helpful to you! Most of the wording used is from Lesson 2 page 4 in the LMS. \n",
    "### <3 Mia"
   ]
  }
 ],
 "metadata": {
  "kernelspec": {
   "display_name": "R",
   "language": "R",
   "name": "ir"
  },
  "language_info": {
   "codemirror_mode": "r",
   "file_extension": ".r",
   "mimetype": "text/x-r-source",
   "name": "R",
   "pygments_lexer": "r",
   "version": "4.1.2"
  }
 },
 "nbformat": 4,
 "nbformat_minor": 5
}
