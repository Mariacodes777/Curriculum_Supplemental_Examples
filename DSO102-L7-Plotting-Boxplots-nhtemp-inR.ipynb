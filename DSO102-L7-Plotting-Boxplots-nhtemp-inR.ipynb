{
 "cells": [
  {
   "cell_type": "markdown",
   "metadata": {},
   "source": [
    "### Side by Side Boxplot of first25 and last25 Data from nhtemp "
   ]
  },
  {
   "cell_type": "code",
   "execution_count": 60,
   "metadata": {},
   "outputs": [],
   "source": [
    "### One of my amazing students asked me if we could plot the first25 and last25 of the data that is used for the Lesson 7 hands on\n",
    "### that is a great practice idea!"
   ]
  },
  {
   "cell_type": "code",
   "execution_count": 41,
   "metadata": {},
   "outputs": [
    {
     "data": {
      "text/html": [
       "A Time Series:<br><style>\n",
       ".list-inline {list-style: none; margin:0; padding: 0}\n",
       ".list-inline>li {display: inline-block}\n",
       ".list-inline>li:not(:last-child)::after {content: \"\\00b7\"; padding: 0 .5ex}\n",
       "</style>\n",
       "<ol class=list-inline><li>49.9</li><li>52.3</li><li>49.4</li><li>51.1</li><li>49.4</li><li>47.9</li><li>49.8</li><li>50.9</li><li>49.3</li><li>51.9</li><li>50.8</li><li>49.6</li><li>49.3</li><li>50.6</li><li>48.4</li><li>50.7</li><li>50.9</li><li>50.6</li><li>51.5</li><li>52.8</li><li>51.8</li><li>51.1</li><li>49.8</li><li>50.2</li><li>50.4</li><li>51.6</li><li>51.8</li><li>50.9</li><li>48.8</li><li>51.7</li><li>51</li><li>50.6</li><li>51.7</li><li>51.5</li><li>52.1</li><li>51.3</li><li>51</li><li>54</li><li>51.4</li><li>52.7</li><li>53.1</li><li>54.6</li><li>52</li><li>52</li><li>50.9</li><li>52.6</li><li>50.2</li><li>52.6</li><li>51.6</li><li>51.9</li><li>50.5</li><li>50.9</li><li>51.7</li><li>51.4</li><li>51.7</li><li>50.8</li><li>51.9</li><li>51.8</li><li>51.9</li><li>53</li></ol>\n"
      ],
      "text/latex": [
       "A Time Series:\\\\\\begin{enumerate*}\n",
       "\\item 49.9\n",
       "\\item 52.3\n",
       "\\item 49.4\n",
       "\\item 51.1\n",
       "\\item 49.4\n",
       "\\item 47.9\n",
       "\\item 49.8\n",
       "\\item 50.9\n",
       "\\item 49.3\n",
       "\\item 51.9\n",
       "\\item 50.8\n",
       "\\item 49.6\n",
       "\\item 49.3\n",
       "\\item 50.6\n",
       "\\item 48.4\n",
       "\\item 50.7\n",
       "\\item 50.9\n",
       "\\item 50.6\n",
       "\\item 51.5\n",
       "\\item 52.8\n",
       "\\item 51.8\n",
       "\\item 51.1\n",
       "\\item 49.8\n",
       "\\item 50.2\n",
       "\\item 50.4\n",
       "\\item 51.6\n",
       "\\item 51.8\n",
       "\\item 50.9\n",
       "\\item 48.8\n",
       "\\item 51.7\n",
       "\\item 51\n",
       "\\item 50.6\n",
       "\\item 51.7\n",
       "\\item 51.5\n",
       "\\item 52.1\n",
       "\\item 51.3\n",
       "\\item 51\n",
       "\\item 54\n",
       "\\item 51.4\n",
       "\\item 52.7\n",
       "\\item 53.1\n",
       "\\item 54.6\n",
       "\\item 52\n",
       "\\item 52\n",
       "\\item 50.9\n",
       "\\item 52.6\n",
       "\\item 50.2\n",
       "\\item 52.6\n",
       "\\item 51.6\n",
       "\\item 51.9\n",
       "\\item 50.5\n",
       "\\item 50.9\n",
       "\\item 51.7\n",
       "\\item 51.4\n",
       "\\item 51.7\n",
       "\\item 50.8\n",
       "\\item 51.9\n",
       "\\item 51.8\n",
       "\\item 51.9\n",
       "\\item 53\n",
       "\\end{enumerate*}\n"
      ],
      "text/markdown": [
       "A Time Series:  \n",
       "1. 49.9\n",
       "2. 52.3\n",
       "3. 49.4\n",
       "4. 51.1\n",
       "5. 49.4\n",
       "6. 47.9\n",
       "7. 49.8\n",
       "8. 50.9\n",
       "9. 49.3\n",
       "10. 51.9\n",
       "11. 50.8\n",
       "12. 49.6\n",
       "13. 49.3\n",
       "14. 50.6\n",
       "15. 48.4\n",
       "16. 50.7\n",
       "17. 50.9\n",
       "18. 50.6\n",
       "19. 51.5\n",
       "20. 52.8\n",
       "21. 51.8\n",
       "22. 51.1\n",
       "23. 49.8\n",
       "24. 50.2\n",
       "25. 50.4\n",
       "26. 51.6\n",
       "27. 51.8\n",
       "28. 50.9\n",
       "29. 48.8\n",
       "30. 51.7\n",
       "31. 51\n",
       "32. 50.6\n",
       "33. 51.7\n",
       "34. 51.5\n",
       "35. 52.1\n",
       "36. 51.3\n",
       "37. 51\n",
       "38. 54\n",
       "39. 51.4\n",
       "40. 52.7\n",
       "41. 53.1\n",
       "42. 54.6\n",
       "43. 52\n",
       "44. 52\n",
       "45. 50.9\n",
       "46. 52.6\n",
       "47. 50.2\n",
       "48. 52.6\n",
       "49. 51.6\n",
       "50. 51.9\n",
       "51. 50.5\n",
       "52. 50.9\n",
       "53. 51.7\n",
       "54. 51.4\n",
       "55. 51.7\n",
       "56. 50.8\n",
       "57. 51.9\n",
       "58. 51.8\n",
       "59. 51.9\n",
       "60. 53\n",
       "\n",
       "\n"
      ],
      "text/plain": [
       "A Time Series:\n",
       " [1] 49.9 52.3 49.4 51.1 49.4 47.9 49.8 50.9 49.3 51.9 50.8 49.6 49.3 50.6 48.4\n",
       "[16] 50.7 50.9 50.6 51.5 52.8 51.8 51.1 49.8 50.2 50.4 51.6 51.8 50.9 48.8 51.7\n",
       "[31] 51.0 50.6 51.7 51.5 52.1 51.3 51.0 54.0 51.4 52.7 53.1 54.6 52.0 52.0 50.9\n",
       "[46] 52.6 50.2 52.6 51.6 51.9 50.5 50.9 51.7 51.4 51.7 50.8 51.9 51.8 51.9 53.0"
      ]
     },
     "metadata": {},
     "output_type": "display_data"
    }
   ],
   "source": [
    "View(nhtemp)"
   ]
  },
  {
   "cell_type": "code",
   "execution_count": 42,
   "metadata": {},
   "outputs": [],
   "source": [
    "### Assigning the rows, the first25 and last25 are what we want to plot, we need to assign the middle 10 so we can take them out"
   ]
  },
  {
   "cell_type": "code",
   "execution_count": 43,
   "metadata": {},
   "outputs": [],
   "source": [
    "first25 <- nhtemp[1:25]\n",
    "last25 <- nhtemp[36:60]\n",
    "Mid10 <- nhtemp[26:35]"
   ]
  },
  {
   "cell_type": "code",
   "execution_count": 44,
   "metadata": {},
   "outputs": [],
   "source": [
    "library(dplyr)"
   ]
  },
  {
   "cell_type": "code",
   "execution_count": 58,
   "metadata": {},
   "outputs": [],
   "source": [
    "### We only want to plot the first25 and last25 so we subset the data:"
   ]
  },
  {
   "cell_type": "code",
   "execution_count": 46,
   "metadata": {},
   "outputs": [],
   "source": [
    "keep=c('first25', 'last25')\n",
    "nhtemp2= nhtemp[keep]"
   ]
  },
  {
   "cell_type": "code",
   "execution_count": 47,
   "metadata": {},
   "outputs": [],
   "source": [
    "Data_frame = data.frame(x = nhtemp2, group = c(rep(\"first25\", 25), rep(\"last25\", 25)))"
   ]
  },
  {
   "cell_type": "code",
   "execution_count": 48,
   "metadata": {},
   "outputs": [],
   "source": [
    "### Above, creating a dataframe called Data_frame, using data.frame() function, grouping it by the first25 and last25 using rep()\n",
    "### Influenced by https://r-coder.com/boxplot-r/"
   ]
  },
  {
   "cell_type": "code",
   "execution_count": 49,
   "metadata": {},
   "outputs": [],
   "source": [
    "### head() shows the first 6 rows"
   ]
  },
  {
   "cell_type": "code",
   "execution_count": 50,
   "metadata": {},
   "outputs": [
    {
     "data": {
      "text/html": [
       "<table class=\"dataframe\">\n",
       "<caption>A data.frame: 6 × 2</caption>\n",
       "<thead>\n",
       "\t<tr><th></th><th scope=col>x</th><th scope=col>group</th></tr>\n",
       "\t<tr><th></th><th scope=col>&lt;dbl&gt;</th><th scope=col>&lt;chr&gt;</th></tr>\n",
       "</thead>\n",
       "<tbody>\n",
       "\t<tr><th scope=row>1</th><td>NA</td><td>first25</td></tr>\n",
       "\t<tr><th scope=row>2</th><td>NA</td><td>first25</td></tr>\n",
       "\t<tr><th scope=row>3</th><td>NA</td><td>first25</td></tr>\n",
       "\t<tr><th scope=row>4</th><td>NA</td><td>first25</td></tr>\n",
       "\t<tr><th scope=row>5</th><td>NA</td><td>first25</td></tr>\n",
       "\t<tr><th scope=row>6</th><td>NA</td><td>first25</td></tr>\n",
       "</tbody>\n",
       "</table>\n"
      ],
      "text/latex": [
       "A data.frame: 6 × 2\n",
       "\\begin{tabular}{r|ll}\n",
       "  & x & group\\\\\n",
       "  & <dbl> & <chr>\\\\\n",
       "\\hline\n",
       "\t1 & NA & first25\\\\\n",
       "\t2 & NA & first25\\\\\n",
       "\t3 & NA & first25\\\\\n",
       "\t4 & NA & first25\\\\\n",
       "\t5 & NA & first25\\\\\n",
       "\t6 & NA & first25\\\\\n",
       "\\end{tabular}\n"
      ],
      "text/markdown": [
       "\n",
       "A data.frame: 6 × 2\n",
       "\n",
       "| <!--/--> | x &lt;dbl&gt; | group &lt;chr&gt; |\n",
       "|---|---|---|\n",
       "| 1 | NA | first25 |\n",
       "| 2 | NA | first25 |\n",
       "| 3 | NA | first25 |\n",
       "| 4 | NA | first25 |\n",
       "| 5 | NA | first25 |\n",
       "| 6 | NA | first25 |\n",
       "\n"
      ],
      "text/plain": [
       "  x  group  \n",
       "1 NA first25\n",
       "2 NA first25\n",
       "3 NA first25\n",
       "4 NA first25\n",
       "5 NA first25\n",
       "6 NA first25"
      ]
     },
     "metadata": {},
     "output_type": "display_data"
    }
   ],
   "source": [
    "head(Data_frame)"
   ]
  },
  {
   "cell_type": "code",
   "execution_count": 51,
   "metadata": {},
   "outputs": [],
   "source": [
    "### tail() shows the last 6 rows"
   ]
  },
  {
   "cell_type": "code",
   "execution_count": 52,
   "metadata": {},
   "outputs": [
    {
     "data": {
      "text/html": [
       "<table class=\"dataframe\">\n",
       "<caption>A data.frame: 6 × 2</caption>\n",
       "<thead>\n",
       "\t<tr><th></th><th scope=col>x</th><th scope=col>group</th></tr>\n",
       "\t<tr><th></th><th scope=col>&lt;dbl&gt;</th><th scope=col>&lt;chr&gt;</th></tr>\n",
       "</thead>\n",
       "<tbody>\n",
       "\t<tr><th scope=row>45</th><td>NA</td><td>last25</td></tr>\n",
       "\t<tr><th scope=row>46</th><td>NA</td><td>last25</td></tr>\n",
       "\t<tr><th scope=row>47</th><td>NA</td><td>last25</td></tr>\n",
       "\t<tr><th scope=row>48</th><td>NA</td><td>last25</td></tr>\n",
       "\t<tr><th scope=row>49</th><td>NA</td><td>last25</td></tr>\n",
       "\t<tr><th scope=row>50</th><td>NA</td><td>last25</td></tr>\n",
       "</tbody>\n",
       "</table>\n"
      ],
      "text/latex": [
       "A data.frame: 6 × 2\n",
       "\\begin{tabular}{r|ll}\n",
       "  & x & group\\\\\n",
       "  & <dbl> & <chr>\\\\\n",
       "\\hline\n",
       "\t45 & NA & last25\\\\\n",
       "\t46 & NA & last25\\\\\n",
       "\t47 & NA & last25\\\\\n",
       "\t48 & NA & last25\\\\\n",
       "\t49 & NA & last25\\\\\n",
       "\t50 & NA & last25\\\\\n",
       "\\end{tabular}\n"
      ],
      "text/markdown": [
       "\n",
       "A data.frame: 6 × 2\n",
       "\n",
       "| <!--/--> | x &lt;dbl&gt; | group &lt;chr&gt; |\n",
       "|---|---|---|\n",
       "| 45 | NA | last25 |\n",
       "| 46 | NA | last25 |\n",
       "| 47 | NA | last25 |\n",
       "| 48 | NA | last25 |\n",
       "| 49 | NA | last25 |\n",
       "| 50 | NA | last25 |\n",
       "\n"
      ],
      "text/plain": [
       "   x  group \n",
       "45 NA last25\n",
       "46 NA last25\n",
       "47 NA last25\n",
       "48 NA last25\n",
       "49 NA last25\n",
       "50 NA last25"
      ]
     },
     "metadata": {},
     "output_type": "display_data"
    }
   ],
   "source": [
    "tail(Data_frame)"
   ]
  },
  {
   "cell_type": "code",
   "execution_count": 57,
   "metadata": {},
   "outputs": [],
   "source": [
    "### The below code to create the boxplot uses boxplot() then enters the data separated by \",\" \n",
    "### names= c() is for labeling the plots in order, data= is the dataframe where the data is coming from\n",
    "### main= is for labeling the title"
   ]
  },
  {
   "cell_type": "code",
   "execution_count": 53,
   "metadata": {},
   "outputs": [
    {
     "data": {
      "image/png": "[encoded data removed]",
      "text/plain": [
       "Plot with title \"nhtemp\""
      ]
     },
     "metadata": {
      "image/png": {
       "height": 420,
       "width": 420
      }
     },
     "output_type": "display_data"
    }
   ],
   "source": [
    "boxplot(first25, last25, names= c(\"first25\", \"last25\"), data = Data_frame, col = 2, main = \"nhtemp\")"
   ]
  },
  {
   "cell_type": "code",
   "execution_count": 55,
   "metadata": {},
   "outputs": [],
   "source": [
    "### Now you see that both data representing first25 and last25 is plotted side by side and from the nhtemp dataset in R :) Mia"
   ]
  }
 ],
 "metadata": {
  "kernelspec": {
   "display_name": "R",
   "language": "R",
   "name": "ir"
  },
  "language_info": {
   "codemirror_mode": "r",
   "file_extension": ".r",
   "mimetype": "text/x-r-source",
   "name": "R",
   "pygments_lexer": "r",
   "version": "4.1.1"
  }
 },
 "nbformat": 4,
 "nbformat_minor": 4
}
