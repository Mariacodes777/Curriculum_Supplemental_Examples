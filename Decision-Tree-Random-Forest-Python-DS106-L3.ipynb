{
 "cells": [
  {
   "cell_type": "markdown",
   "id": "5006b6d4",
   "metadata": {},
   "source": [
    "### This Notebook is Designed to Walkthrough Lesson 3 in Machine Learning"
   ]
  },
  {
   "cell_type": "markdown",
   "id": "fa6aadcf",
   "metadata": {},
   "source": [
    "### Decision Trees in Python"
   ]
  },
  {
   "cell_type": "markdown",
   "id": "c9b67caa",
   "metadata": {},
   "source": [
    "### Import Packages"
   ]
  },
  {
   "cell_type": "code",
   "execution_count": 3,
   "id": "c4575fae",
   "metadata": {},
   "outputs": [],
   "source": [
    "import pandas as pd\n",
    "import numpy as np\n",
    "import matplotlib.pyplot as plt\n",
    "import seaborn as sns\n",
    "%matplotlib inline\n",
    "from sklearn.model_selection import train_test_split\n",
    "from sklearn.tree import DecisionTreeClassifier\n",
    "from sklearn.metrics import classification_report, confusion_matrix, accuracy_score"
   ]
  },
  {
   "cell_type": "markdown",
   "id": "a37d8157",
   "metadata": {},
   "source": [
    "### Load Data: \n",
    "This Data is built into the seaborn package\n"
   ]
  },
  {
   "cell_type": "code",
   "execution_count": 4,
   "id": "85afa707",
   "metadata": {},
   "outputs": [],
   "source": [
    "iris = sns.load_dataset('iris')"
   ]
  },
  {
   "cell_type": "markdown",
   "id": "539c5103",
   "metadata": {},
   "source": [
    "Use the .head() to view the data"
   ]
  },
  {
   "cell_type": "code",
   "execution_count": 7,
   "id": "740e39ec",
   "metadata": {},
   "outputs": [
    {
     "data": {
      "text/html": [
       "<div>\n",
       "<style scoped>\n",
       "    .dataframe tbody tr th:only-of-type {\n",
       "        vertical-align: middle;\n",
       "    }\n",
       "\n",
       "    .dataframe tbody tr th {\n",
       "        vertical-align: top;\n",
       "    }\n",
       "\n",
       "    .dataframe thead th {\n",
       "        text-align: right;\n",
       "    }\n",
       "</style>\n",
       "<table border=\"1\" class=\"dataframe\">\n",
       "  <thead>\n",
       "    <tr style=\"text-align: right;\">\n",
       "      <th></th>\n",
       "      <th>sepal_length</th>\n",
       "      <th>sepal_width</th>\n",
       "      <th>petal_length</th>\n",
       "      <th>petal_width</th>\n",
       "      <th>species</th>\n",
       "    </tr>\n",
       "  </thead>\n",
       "  <tbody>\n",
       "    <tr>\n",
       "      <th>0</th>\n",
       "      <td>5.1</td>\n",
       "      <td>3.5</td>\n",
       "      <td>1.4</td>\n",
       "      <td>0.2</td>\n",
       "      <td>setosa</td>\n",
       "    </tr>\n",
       "    <tr>\n",
       "      <th>1</th>\n",
       "      <td>4.9</td>\n",
       "      <td>3.0</td>\n",
       "      <td>1.4</td>\n",
       "      <td>0.2</td>\n",
       "      <td>setosa</td>\n",
       "    </tr>\n",
       "    <tr>\n",
       "      <th>2</th>\n",
       "      <td>4.7</td>\n",
       "      <td>3.2</td>\n",
       "      <td>1.3</td>\n",
       "      <td>0.2</td>\n",
       "      <td>setosa</td>\n",
       "    </tr>\n",
       "    <tr>\n",
       "      <th>3</th>\n",
       "      <td>4.6</td>\n",
       "      <td>3.1</td>\n",
       "      <td>1.5</td>\n",
       "      <td>0.2</td>\n",
       "      <td>setosa</td>\n",
       "    </tr>\n",
       "    <tr>\n",
       "      <th>4</th>\n",
       "      <td>5.0</td>\n",
       "      <td>3.6</td>\n",
       "      <td>1.4</td>\n",
       "      <td>0.2</td>\n",
       "      <td>setosa</td>\n",
       "    </tr>\n",
       "  </tbody>\n",
       "</table>\n",
       "</div>"
      ],
      "text/plain": [
       "   sepal_length  sepal_width  petal_length  petal_width species\n",
       "0           5.1          3.5           1.4          0.2  setosa\n",
       "1           4.9          3.0           1.4          0.2  setosa\n",
       "2           4.7          3.2           1.3          0.2  setosa\n",
       "3           4.6          3.1           1.5          0.2  setosa\n",
       "4           5.0          3.6           1.4          0.2  setosa"
      ]
     },
     "execution_count": 7,
     "metadata": {},
     "output_type": "execute_result"
    }
   ],
   "source": [
    "iris.head()"
   ]
  },
  {
   "cell_type": "markdown",
   "id": "3c07c45c",
   "metadata": {},
   "source": [
    "### Data Wrangling"
   ]
  },
  {
   "cell_type": "markdown",
   "id": "a09bc892",
   "metadata": {},
   "source": [
    "Specify the x and y variables using subsetting. y is the column you are predicting, and x is everything being using to predict it."
   ]
  },
  {
   "cell_type": "code",
   "execution_count": 9,
   "id": "b099a0fb",
   "metadata": {},
   "outputs": [],
   "source": [
    "x = iris.drop('species', axis=1)\n",
    "y = iris['species']"
   ]
  },
  {
   "cell_type": "markdown",
   "id": "a0882eb2",
   "metadata": {},
   "source": [
    "### Train Test Split"
   ]
  },
  {
   "cell_type": "markdown",
   "id": "f3ac078d",
   "metadata": {},
   "source": [
    "Split the data into training and testing sets. The train variables are creating the initial model, and the test variables are what will be used to determine the fit of the model. Note that just for following along, set the random_state to 76, which is not necessary, but it will give the same result as the example."
   ]
  },
  {
   "cell_type": "code",
   "execution_count": 10,
   "id": "425028e8",
   "metadata": {},
   "outputs": [],
   "source": [
    "x_train, x_test, y_train, y_test = train_test_split(x,y, test_size=0.3, random_state=76)"
   ]
  },
  {
   "cell_type": "markdown",
   "id": "42cc3cb9",
   "metadata": {},
   "source": [
    "### Create Initial Decision Tree"
   ]
  },
  {
   "cell_type": "code",
   "execution_count": 11,
   "id": "1bb2efa2",
   "metadata": {},
   "outputs": [
    {
     "data": {
      "text/plain": [
       "DecisionTreeClassifier(random_state=76)"
      ]
     },
     "execution_count": 11,
     "metadata": {},
     "output_type": "execute_result"
    }
   ],
   "source": [
    "decisionTree = DecisionTreeClassifier(random_state=76)\n",
    "decisionTree.fit(x_train, y_train)"
   ]
  },
  {
   "cell_type": "markdown",
   "id": "6cb2bdf3",
   "metadata": {},
   "source": [
    "### Assess the Model"
   ]
  },
  {
   "cell_type": "markdown",
   "id": "29e1f50e",
   "metadata": {},
   "source": [
    "Create a set of predictions and interpret the results. Start by using the predict() function, and then utilize the same confusion matrix and classification report coding as in previous lesson."
   ]
  },
  {
   "cell_type": "code",
   "execution_count": 12,
   "id": "91d31e09",
   "metadata": {},
   "outputs": [],
   "source": [
    "treePredictions = decisionTree.predict(x_test)"
   ]
  },
  {
   "cell_type": "markdown",
   "id": "f6b29787",
   "metadata": {},
   "source": [
    "### Print Confusion Matrix"
   ]
  },
  {
   "cell_type": "code",
   "execution_count": 13,
   "id": "38c03452",
   "metadata": {},
   "outputs": [
    {
     "name": "stdout",
     "output_type": "stream",
     "text": [
      "[[19  0  0]\n",
      " [ 0 10  3]\n",
      " [ 0  2 11]]\n"
     ]
    }
   ],
   "source": [
    "print(confusion_matrix(y_test, treePredictions))"
   ]
  },
  {
   "cell_type": "markdown",
   "id": "e5efd640",
   "metadata": {},
   "source": [
    "The variables on the top represent the actual values, and the variables on the side represent the predicted values."
   ]
  },
  {
   "cell_type": "code",
   "execution_count": 15,
   "id": "203d318f",
   "metadata": {},
   "outputs": [],
   "source": [
    "\n",
    "#                        setosa (actual)    versicolor (actual)  virginica (actual)\n",
    "#setosa (predicted)            19                   0                     0\n",
    "#versicolor (predicted)        0                    10                    3\n",
    "#virginica (predicted)         0                    2                     11"
   ]
  },
  {
   "cell_type": "markdown",
   "id": "cb762425",
   "metadata": {},
   "source": [
    "In the upper left corner is the number 19. Because this is marked setosa both in the column and the row, that means that these are the predictions that were right! So, 19 irises were classified as the species setosa and actually were a setosa. Moving to the next column, same row, is the number 0. This means that there were no irises in the setosa species that were accidentally classified as versicolor. Similarly, in the third column, there were no irises accidentally classified in our model as virginica.\n",
    "\n",
    "If you move on to the second row, for versicolor, you can see that no versicolor irises were accidentally misclassified as setosa. In the next column, you can note that 10 irises were versicolor, and actually were classified as versicolor. Then in the last column, you see that there were three versicolor irises that were misclassified as virginica species instead.\n",
    "\n",
    "For the third row, there were no virginica irises misclassified as setosa, there were two misclassified as versicolor, and there were eleven properly classified as virginica.\n",
    "\n",
    "So this decision tree model is really good at predicting the species of setosa, but misclassified a few of the versicolor species as virginica and vice versa.\n",
    "\n",
    "(page 4)"
   ]
  },
  {
   "cell_type": "markdown",
   "id": "4c0691c3",
   "metadata": {},
   "source": [
    "<img src=\"https://miro.medium.com/max/700/1*uo6VfVH87jRjMZWVdwq3Vw.png\" jsaction=\"load:XAeZkd;\" jsname=\"HiaYvf\" class=\"n3VNCb\" alt=\"Nivitus | Medium\" data-noaft=\"1\" style=\"width: 450px; height: 201.214px; margin: 0px;\">"
   ]
  },
  {
   "cell_type": "code",
   "execution_count": 39,
   "id": "d3ca4b54",
   "metadata": {},
   "outputs": [],
   "source": [
    "#source of above image: https://miro.medium.com/max/700/1*uo6VfVH87jRjMZWVdwq3Vw.png"
   ]
  },
  {
   "cell_type": "markdown",
   "id": "bf7cbf70",
   "metadata": {},
   "source": [
    "### How Well Does your Model Fit?"
   ]
  },
  {
   "cell_type": "code",
   "execution_count": 16,
   "id": "0bbee64a",
   "metadata": {},
   "outputs": [
    {
     "name": "stdout",
     "output_type": "stream",
     "text": [
      "              precision    recall  f1-score   support\n",
      "\n",
      "      setosa       1.00      1.00      1.00        19\n",
      "  versicolor       0.83      0.77      0.80        13\n",
      "   virginica       0.79      0.85      0.81        13\n",
      "\n",
      "    accuracy                           0.89        45\n",
      "   macro avg       0.87      0.87      0.87        45\n",
      "weighted avg       0.89      0.89      0.89        45\n",
      "\n"
     ]
    }
   ],
   "source": [
    "print(classification_report(y_test, treePredictions))"
   ]
  },
  {
   "cell_type": "markdown",
   "id": "ddbc4266",
   "metadata": {},
   "source": [
    "First look at precision. Precision is the total number of true positives are divided by the total of positives, whether true or false."
   ]
  },
  {
   "cell_type": "markdown",
   "id": "4936404d",
   "metadata": {},
   "source": [
    "Next, look at recall. So instead of putting the true positives over all positives, you put it over the sum of the true positives and the false negatives."
   ]
  },
  {
   "cell_type": "markdown",
   "id": "644d1365",
   "metadata": {},
   "source": [
    "Then, look at the F1-score. F1 is equal to 2x precision x recall / precision + recall. Please review the formulas on page 4. "
   ]
  },
  {
   "cell_type": "markdown",
   "id": "2076a338",
   "metadata": {},
   "source": [
    "So setosa was predicted with 100% precision, while versicolor was predicted with 83% accuracy and virginica was predicted with 79% accuracy! We can predict the species of the flower with 89% accuracy."
   ]
  },
  {
   "cell_type": "markdown",
   "id": "02a952e4",
   "metadata": {},
   "source": [
    "### Random Forest in Python"
   ]
  },
  {
   "cell_type": "markdown",
   "id": "027965e4",
   "metadata": {},
   "source": [
    "We did one tree now we will do a forest!"
   ]
  },
  {
   "cell_type": "markdown",
   "id": "5cd7ac50",
   "metadata": {},
   "source": [
    "### Import Packages"
   ]
  },
  {
   "cell_type": "code",
   "execution_count": 17,
   "id": "dc827455",
   "metadata": {},
   "outputs": [],
   "source": [
    "import pandas as pd\n",
    "import numpy as np\n",
    "import matplotlib.pyplot as plt\n",
    "import seaborn as sns\n",
    "%matplotlib inline\n",
    "from sklearn.ensemble import RandomForestClassifier\n",
    "from sklearn.model_selection import train_test_split\n",
    "from sklearn.metrics import classification_report, confusion_matrix"
   ]
  },
  {
   "cell_type": "markdown",
   "id": "bf419723",
   "metadata": {},
   "source": [
    "### Load Data"
   ]
  },
  {
   "cell_type": "code",
   "execution_count": 18,
   "id": "d8b3fffa",
   "metadata": {},
   "outputs": [],
   "source": [
    "iris = sns.load_dataset('iris')"
   ]
  },
  {
   "cell_type": "markdown",
   "id": "63ade2fa",
   "metadata": {},
   "source": [
    "### Data Wrangling\n",
    "Subsetting the Data again"
   ]
  },
  {
   "cell_type": "code",
   "execution_count": 19,
   "id": "c796cb10",
   "metadata": {},
   "outputs": [],
   "source": [
    "x = iris.drop('species', axis=1)\n",
    "y = iris['species']\n",
    "#We are dropping the species column to use it as the predictor variable"
   ]
  },
  {
   "cell_type": "markdown",
   "id": "b5b34850",
   "metadata": {},
   "source": [
    "### Test Train Split"
   ]
  },
  {
   "cell_type": "code",
   "execution_count": 20,
   "id": "2489b91c",
   "metadata": {},
   "outputs": [],
   "source": [
    "x_train, x_test, y_train, y_test = train_test_split(x,y, test_size=0.3, random_state=76)"
   ]
  },
  {
   "cell_type": "markdown",
   "id": "9dc59682",
   "metadata": {},
   "source": [
    "### Initial Random Forest Model"
   ]
  },
  {
   "cell_type": "markdown",
   "id": "1ddd6e7a",
   "metadata": {},
   "source": [
    "We will use the RandomForestClassifer(), with the arguments n_estimators= to specify how many decision trees we want the random forest to stem from, and random_state= just to follow along with this example:\n",
    "\n"
   ]
  },
  {
   "cell_type": "code",
   "execution_count": 21,
   "id": "b41b9bf0",
   "metadata": {},
   "outputs": [
    {
     "data": {
      "text/plain": [
       "RandomForestClassifier(n_estimators=500, random_state=76)"
      ]
     },
     "execution_count": 21,
     "metadata": {},
     "output_type": "execute_result"
    }
   ],
   "source": [
    "forest = RandomForestClassifier(n_estimators=500, random_state=76)\n",
    "forest.fit(x_train, y_train)"
   ]
  },
  {
   "cell_type": "markdown",
   "id": "3201a994",
   "metadata": {},
   "source": [
    "The n_estimators=, which we have set to 500 means we will be testing our data with 500 decision trees. In general, the higher the n_estimators=, the more accurate the model will be."
   ]
  },
  {
   "cell_type": "markdown",
   "id": "5355f83e",
   "metadata": {},
   "source": [
    "### Evaluate Model Fit"
   ]
  },
  {
   "cell_type": "markdown",
   "id": "d90faa83",
   "metadata": {},
   "source": [
    "Using both the confusion matrix and classification report again here "
   ]
  },
  {
   "cell_type": "code",
   "execution_count": 22,
   "id": "dc94b449",
   "metadata": {},
   "outputs": [
    {
     "name": "stdout",
     "output_type": "stream",
     "text": [
      "[[19  0  0]\n",
      " [ 0 11  2]\n",
      " [ 0  0 13]]\n",
      "              precision    recall  f1-score   support\n",
      "\n",
      "      setosa       1.00      1.00      1.00        19\n",
      "  versicolor       1.00      0.85      0.92        13\n",
      "   virginica       0.87      1.00      0.93        13\n",
      "\n",
      "    accuracy                           0.96        45\n",
      "   macro avg       0.96      0.95      0.95        45\n",
      "weighted avg       0.96      0.96      0.96        45\n",
      "\n"
     ]
    }
   ],
   "source": [
    "forestPredictions = forest.predict(x_test)\n",
    "print(confusion_matrix(y_test, forestPredictions))\n",
    "print(classification_report(y_test, forestPredictions))"
   ]
  },
  {
   "cell_type": "markdown",
   "id": "5c260809",
   "metadata": {},
   "source": [
    "The model is 96% accurate. There is 100% accuracy for both setosa and versicolor irises, but only 87% accuracy for virginica."
   ]
  },
  {
   "cell_type": "markdown",
   "id": "f90a46f5",
   "metadata": {},
   "source": [
    "### Hyperparameter Tuning in Python"
   ]
  },
  {
   "cell_type": "markdown",
   "id": "0af5a3a9",
   "metadata": {},
   "source": [
    "In machine learning, parameters are the components of the model. Parameters that are adjustable are called hyperparameters."
   ]
  },
  {
   "cell_type": "markdown",
   "id": "c7a24cd8",
   "metadata": {},
   "source": [
    "### Load Additional Package"
   ]
  },
  {
   "cell_type": "code",
   "execution_count": 23,
   "id": "8dc9d65e",
   "metadata": {},
   "outputs": [],
   "source": [
    "from sklearn.model_selection import RandomizedSearchCV"
   ]
  },
  {
   "cell_type": "markdown",
   "id": "50ad7722",
   "metadata": {},
   "source": [
    "There are four hyperparameters for decision trees and random forests that are important:\n",
    "\n",
    "-Maximum depth: how far down the \"roots\" of your tree go. How many nodes do you allow?\n",
    "\n",
    "-Number of estimators: determining how many trees to be using.\n",
    "\n",
    "-Maximum number of features: A feature is the decision points, or branches, on the tree.\n",
    "\n",
    "-Minimum number of samples for a leaf: The minimum number of samples is how many data points are being sorted at each feature. \n",
    "(page 6/7)"
   ]
  },
  {
   "cell_type": "markdown",
   "id": "763681a6",
   "metadata": {},
   "source": [
    "### Number of Estimators"
   ]
  },
  {
   "cell_type": "markdown",
   "id": "e8d0eebe",
   "metadata": {},
   "source": [
    "1) Determine how many trees you will be using. \n",
    "\n",
    "2) Create an array that contains the most likely number of estimators, which is what is shown in the first line of code below.\n",
    "\n",
    "3) Then create an empty list named results that will end up filled using a for loop!\n",
    "\n",
    "4) Then the for loop, this iterates over your n_estimators_array and creates a random forest for each, prints out the accuracy for each, and finally adds it to your results list. The very last line in the for loop prints out each result as it becomes available. (page 7)"
   ]
  },
  {
   "cell_type": "code",
   "execution_count": 24,
   "id": "fa1933a4",
   "metadata": {},
   "outputs": [
    {
     "name": "stdout",
     "output_type": "stream",
     "text": [
      "1 : 0.9111111111111111\n",
      "4 : 0.9555555555555556\n",
      "5 : 0.9333333333333333\n",
      "8 : 0.9555555555555556\n",
      "10 : 0.9777777777777777\n",
      "20 : 0.9555555555555556\n",
      "50 : 0.9555555555555556\n",
      "75 : 0.9555555555555556\n",
      "100 : 0.9555555555555556\n",
      "250 : 0.9555555555555556\n",
      "500 : 0.9555555555555556\n"
     ]
    }
   ],
   "source": [
    "n_estimators_array = [1, 4, 5, 8, 10, 20, 50, 75, 100, 250, 500]\n",
    "results = []\n",
    "for n in n_estimators_array:\n",
    "    forest = RandomForestClassifier(n_estimators=n, random_state=76)\n",
    "    forest.fit(x_train, y_train)\n",
    "    result = accuracy_score(y_test, forest.predict(x_test))\n",
    "    results.append(result) \n",
    "    print(n, ':', result)"
   ]
  },
  {
   "cell_type": "markdown",
   "id": "15f3e1ab",
   "metadata": {},
   "source": [
    "So it looks like the best accuracy arises when you use only 10 trees instead of the standard 500! "
   ]
  },
  {
   "cell_type": "markdown",
   "id": "b1fad3ae",
   "metadata": {},
   "source": [
    "To view this result visually:"
   ]
  },
  {
   "cell_type": "code",
   "execution_count": 25,
   "id": "2decabbf",
   "metadata": {},
   "outputs": [
    {
     "data": {
      "text/plain": [
       "[<matplotlib.lines.Line2D at 0x28c9f7d90>]"
      ]
     },
     "execution_count": 25,
     "metadata": {},
     "output_type": "execute_result"
    },
    {
     "data": {
      "image/png": "[encoded data removed]",
      "text/plain": [
       "<Figure size 432x288 with 1 Axes>"
      ]
     },
     "metadata": {
      "needs_background": "light"
     },
     "output_type": "display_data"
    }
   ],
   "source": [
    "plt.plot(n_estimators_array, results)"
   ]
  },
  {
   "cell_type": "markdown",
   "id": "13135a41",
   "metadata": {},
   "source": [
    "We see from this graph that things have completely stagnated before 100 trees, so it certainly is a waste of processing power to request 500."
   ]
  },
  {
   "cell_type": "markdown",
   "id": "2550a0de",
   "metadata": {},
   "source": [
    "### Tuning the Remaining Three"
   ]
  },
  {
   "cell_type": "markdown",
   "id": "cce02e89",
   "metadata": {},
   "source": [
    "Below you are creating lists with all the hyperparameter values you want to trial. There is one for each of the remaining three features, named: max_features, max_depth, and min_samples_leaf. Then, you'll create a dictionary with the hyperparameter names as the keys and the list variables as the values. This is called a grid and is aptly named random_grid.(page 7)"
   ]
  },
  {
   "cell_type": "code",
   "execution_count": 27,
   "id": "102776e4",
   "metadata": {},
   "outputs": [
    {
     "name": "stdout",
     "output_type": "stream",
     "text": [
      "{'max_features': ['auto', None, 'log2'], 'max_depth': [10, 20, 30, 40, 50, 60, 70, 80, 90, None], 'min_samples_leaf': [1, 2, 4]}\n"
     ]
    }
   ],
   "source": [
    "# Number of features to consider at every split\n",
    "max_features = ['auto', None, 'log2']\n",
    "# Maximum number of levels in tree\n",
    "max_depth = [10, 20, 30, 40, 50, 60, 70, 80, 90, None]\n",
    "# Minimum number of samples required at each leaf node\n",
    "min_samples_leaf = [1, 2, 4]\n",
    "# Method of selecting samples for training each tree\n",
    "random_grid = {'max_features': max_features,\n",
    "               'max_depth': max_depth,\n",
    "               'min_samples_leaf': min_samples_leaf}\n",
    "print(random_grid)"
   ]
  },
  {
   "cell_type": "markdown",
   "id": "e81e984f",
   "metadata": {},
   "source": [
    "Preparing to initialize one random forest for every one of those hyperparameters in the random_grid. Since you know that you only want ten trees, the first line sets up a random forest model with that.\n",
    "\n",
    "The next line of code gives you a random search of the random_grid you created using the function RandomizedSearchCV(). The arguments for that function include the estimator=, which is what you've named your latest iteration of the random forest with only ten estimators, the param_distributions= argument, which is where you plug in the random_grid dictionary, n_iter=, which is the number of iterations, or times to complete the random forest, and lastly, the cv= argument, which allows you to choose how many folds you'd like in your cross validation. The random_state= argument is not required to run code, but including it means that your results should be the same as those in the lesson."
   ]
  },
  {
   "cell_type": "code",
   "execution_count": 29,
   "id": "65627650",
   "metadata": {},
   "outputs": [],
   "source": [
    "rf = RandomForestClassifier(n_estimators=10)\n",
    "rf_random = RandomizedSearchCV(estimator = rf, param_distributions = random_grid, n_iter = 90, cv = 3, random_state=42)"
   ]
  },
  {
   "cell_type": "markdown",
   "id": "0a792ff1",
   "metadata": {},
   "source": [
    "### Fit the model"
   ]
  },
  {
   "cell_type": "code",
   "execution_count": 30,
   "id": "7a984066",
   "metadata": {},
   "outputs": [
    {
     "data": {
      "text/plain": [
       "RandomizedSearchCV(cv=3, estimator=RandomForestClassifier(n_estimators=10),\n",
       "                   n_iter=90,\n",
       "                   param_distributions={'max_depth': [10, 20, 30, 40, 50, 60,\n",
       "                                                      70, 80, 90, None],\n",
       "                                        'max_features': ['auto', None, 'log2'],\n",
       "                                        'min_samples_leaf': [1, 2, 4]},\n",
       "                   random_state=42)"
      ]
     },
     "execution_count": 30,
     "metadata": {},
     "output_type": "execute_result"
    }
   ],
   "source": [
    "rf_random.fit(x_train, y_train)"
   ]
  },
  {
   "cell_type": "markdown",
   "id": "c1dfba94",
   "metadata": {},
   "source": [
    "### See which Hyperparameter Produced the Best Result"
   ]
  },
  {
   "cell_type": "code",
   "execution_count": 31,
   "id": "7b08bbf9",
   "metadata": {},
   "outputs": [
    {
     "data": {
      "text/plain": [
       "{'min_samples_leaf': 2, 'max_features': None, 'max_depth': 20}"
      ]
     },
     "execution_count": 31,
     "metadata": {},
     "output_type": "execute_result"
    }
   ],
   "source": [
    "rf_random.best_params_"
   ]
  },
  {
   "cell_type": "markdown",
   "id": "76d21209",
   "metadata": {},
   "source": [
    "This is showing the best parameters were to have 2 leafs per sample, no max features, and a maxium depth of 20."
   ]
  },
  {
   "cell_type": "markdown",
   "id": "9823a185",
   "metadata": {},
   "source": [
    "Applying those parameters:"
   ]
  },
  {
   "cell_type": "code",
   "execution_count": 33,
   "id": "bdb18e08",
   "metadata": {},
   "outputs": [
    {
     "data": {
      "text/plain": [
       "RandomForestClassifier(max_depth=20, max_features=None, min_samples_leaf=2,\n",
       "                       n_estimators=10)"
      ]
     },
     "execution_count": 33,
     "metadata": {},
     "output_type": "execute_result"
    }
   ],
   "source": [
    "forest = RandomForestClassifier(n_estimators=10, min_samples_leaf=2, max_features=None, max_depth=20)\n",
    "forest.fit(x_train, y_train)"
   ]
  },
  {
   "cell_type": "code",
   "execution_count": 34,
   "id": "111ad88d",
   "metadata": {},
   "outputs": [
    {
     "name": "stdout",
     "output_type": "stream",
     "text": [
      "[[19  0  0]\n",
      " [ 0 12  1]\n",
      " [ 0  0 13]]\n",
      "              precision    recall  f1-score   support\n",
      "\n",
      "      setosa       1.00      1.00      1.00        19\n",
      "  versicolor       1.00      0.92      0.96        13\n",
      "   virginica       0.93      1.00      0.96        13\n",
      "\n",
      "    accuracy                           0.98        45\n",
      "   macro avg       0.98      0.97      0.97        45\n",
      "weighted avg       0.98      0.98      0.98        45\n",
      "\n"
     ]
    }
   ],
   "source": [
    "forestPredictions = forest.predict(x_test)\n",
    "print(confusion_matrix(y_test, forestPredictions))\n",
    "print(classification_report(y_test, forestPredictions))"
   ]
  },
  {
   "cell_type": "markdown",
   "id": "f299e05b",
   "metadata": {},
   "source": [
    "Overall accuracy is 98%"
   ]
  },
  {
   "cell_type": "markdown",
   "id": "17308934",
   "metadata": {},
   "source": [
    "### Feature Importance\n",
    "(One of my favorite parts of ML!!)"
   ]
  },
  {
   "cell_type": "markdown",
   "id": "4961ce0b",
   "metadata": {},
   "source": [
    "Evaluating the feature importance just means that you can figure out which variable makes more difference to the prediction of the y."
   ]
  },
  {
   "cell_type": "code",
   "execution_count": 35,
   "id": "3764ca4c",
   "metadata": {},
   "outputs": [
    {
     "data": {
      "text/plain": [
       "sepal_length    0.007823\n",
       "sepal_width     0.003542\n",
       "petal_length    0.553005\n",
       "petal_width     0.435630\n",
       "dtype: float64"
      ]
     },
     "execution_count": 35,
     "metadata": {},
     "output_type": "execute_result"
    }
   ],
   "source": [
    "feature_importances = pd.Series(forest.feature_importances_, index=x.columns)\n",
    "feature_importances"
   ]
  },
  {
   "cell_type": "markdown",
   "id": "f4042ffb",
   "metadata": {},
   "source": [
    "The sort_values() function will sort them. The inplace=True argument, like always, makes this change permanent, and ascending=False means that this goes from largest to smallest."
   ]
  },
  {
   "cell_type": "code",
   "execution_count": 36,
   "id": "a532f5de",
   "metadata": {},
   "outputs": [
    {
     "name": "stdout",
     "output_type": "stream",
     "text": [
      "petal_length    0.553005\n",
      "petal_width     0.435630\n",
      "sepal_length    0.007823\n",
      "sepal_width     0.003542\n",
      "dtype: float64\n"
     ]
    }
   ],
   "source": [
    "feature_importances.sort_values(inplace=True, ascending=False)\n",
    "print(feature_importances)"
   ]
  },
  {
   "cell_type": "markdown",
   "id": "aa8abb93",
   "metadata": {},
   "source": [
    "View the results in a little graph:"
   ]
  },
  {
   "cell_type": "code",
   "execution_count": 37,
   "id": "5c641f2d",
   "metadata": {},
   "outputs": [
    {
     "data": {
      "text/plain": [
       "<AxesSubplot:>"
      ]
     },
     "execution_count": 37,
     "metadata": {},
     "output_type": "execute_result"
    },
    {
     "data": {
      "image/png": "[encoded data removed]",
      "text/plain": [
       "<Figure size 504x432 with 1 Axes>"
      ]
     },
     "metadata": {
      "needs_background": "light"
     },
     "output_type": "display_data"
    }
   ],
   "source": [
    "feature_importances.plot(kind='barh', figsize=(7,6))"
   ]
  },
  {
   "cell_type": "markdown",
   "id": "3dc4f15c",
   "metadata": {},
   "source": [
    "This makes it really easy to see which variable(s) was the top predictors of y."
   ]
  },
  {
   "cell_type": "markdown",
   "id": "4502660c",
   "metadata": {},
   "source": [
    "Hope you enjoyed this walkthrough of Lesson 3 from ML! Explanation verbage from pages 4-8:) <3 Mia"
   ]
  }
 ],
 "metadata": {
  "kernelspec": {
   "display_name": "Python 3 (ipykernel)",
   "language": "python",
   "name": "python3"
  },
  "language_info": {
   "codemirror_mode": {
    "name": "ipython",
    "version": 3
   },
   "file_extension": ".py",
   "mimetype": "text/x-python",
   "name": "python",
   "nbconvert_exporter": "python",
   "pygments_lexer": "ipython3",
   "version": "3.9.10"
  }
 },
 "nbformat": 4,
 "nbformat_minor": 5
}
